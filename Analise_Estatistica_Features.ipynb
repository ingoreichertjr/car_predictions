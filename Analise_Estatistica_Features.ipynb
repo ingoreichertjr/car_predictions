{
 "cells": [
  {
   "cell_type": "markdown",
   "id": "1f519c7b",
   "metadata": {},
   "source": [
    "# Análise Estatística das Principais Variáveis Features"
   ]
  },
  {
   "cell_type": "markdown",
   "id": "9ef7a82b",
   "metadata": {},
   "source": [
    "## Importando Bibliotecas e Configurando Ambiente de Trabalho"
   ]
  },
  {
   "cell_type": "code",
   "execution_count": 1,
   "id": "7b2ce0fd",
   "metadata": {},
   "outputs": [
    {
     "data": {
      "application/javascript": [
       "\n",
       "            setTimeout(function() {\n",
       "                var nbb_cell_id = 1;\n",
       "                var nbb_unformatted_code = \"import pandas as pd\\nimport numpy as np\\nimport seaborn as sns\\nimport matplotlib.pyplot as plt\\nimport statistics\\n\\npd.set_option(\\\"display.max_columns\\\", 29)\\npd.set_option(\\\"display.float_format\\\", lambda x: \\\"%.2f\\\" % x)\\nimport warnings\\n\\nwarnings.simplefilter(action=\\\"ignore\\\")\\n%load_ext nb_black\";\n",
       "                var nbb_formatted_code = \"import pandas as pd\\nimport numpy as np\\nimport seaborn as sns\\nimport matplotlib.pyplot as plt\\nimport statistics\\n\\npd.set_option(\\\"display.max_columns\\\", 29)\\npd.set_option(\\\"display.float_format\\\", lambda x: \\\"%.2f\\\" % x)\\nimport warnings\\n\\nwarnings.simplefilter(action=\\\"ignore\\\")\\n%load_ext nb_black\";\n",
       "                var nbb_cells = Jupyter.notebook.get_cells();\n",
       "                for (var i = 0; i < nbb_cells.length; ++i) {\n",
       "                    if (nbb_cells[i].input_prompt_number == nbb_cell_id) {\n",
       "                        if (nbb_cells[i].get_text() == nbb_unformatted_code) {\n",
       "                             nbb_cells[i].set_text(nbb_formatted_code);\n",
       "                        }\n",
       "                        break;\n",
       "                    }\n",
       "                }\n",
       "            }, 500);\n",
       "            "
      ],
      "text/plain": [
       "<IPython.core.display.Javascript object>"
      ]
     },
     "metadata": {},
     "output_type": "display_data"
    }
   ],
   "source": [
    "import pandas as pd\n",
    "import numpy as np\n",
    "import seaborn as sns\n",
    "import matplotlib.pyplot as plt\n",
    "import statistics\n",
    "\n",
    "pd.set_option(\"display.max_columns\", 29)\n",
    "pd.set_option(\"display.float_format\", lambda x: \"%.2f\" % x)\n",
    "import warnings\n",
    "\n",
    "warnings.simplefilter(action=\"ignore\")\n",
    "%load_ext nb_black"
   ]
  },
  {
   "cell_type": "markdown",
   "id": "963eec2d",
   "metadata": {},
   "source": [
    "## Carregando os Dados"
   ]
  },
  {
   "cell_type": "code",
   "execution_count": 2,
   "id": "c15cb170",
   "metadata": {},
   "outputs": [
    {
     "data": {
      "text/html": [
       "<div>\n",
       "<style scoped>\n",
       "    .dataframe tbody tr th:only-of-type {\n",
       "        vertical-align: middle;\n",
       "    }\n",
       "\n",
       "    .dataframe tbody tr th {\n",
       "        vertical-align: top;\n",
       "    }\n",
       "\n",
       "    .dataframe thead th {\n",
       "        text-align: right;\n",
       "    }\n",
       "</style>\n",
       "<table border=\"1\" class=\"dataframe\">\n",
       "  <thead>\n",
       "    <tr style=\"text-align: right;\">\n",
       "      <th></th>\n",
       "      <th>id</th>\n",
       "      <th>num_fotos</th>\n",
       "      <th>marca</th>\n",
       "      <th>modelo</th>\n",
       "      <th>versao</th>\n",
       "      <th>ano_de_fabricacao</th>\n",
       "      <th>ano_modelo</th>\n",
       "      <th>hodometro</th>\n",
       "      <th>cambio</th>\n",
       "      <th>num_portas</th>\n",
       "      <th>tipo</th>\n",
       "      <th>blindado</th>\n",
       "      <th>cor</th>\n",
       "      <th>tipo_vendedor</th>\n",
       "      <th>cidade_vendedor</th>\n",
       "      <th>estado_vendedor</th>\n",
       "      <th>anunciante</th>\n",
       "      <th>entrega_delivery</th>\n",
       "      <th>troca</th>\n",
       "      <th>elegivel_revisao</th>\n",
       "      <th>dono_aceita_troca</th>\n",
       "      <th>veiculo_único_dono</th>\n",
       "      <th>revisoes_concessionaria</th>\n",
       "      <th>ipva_pago</th>\n",
       "      <th>veiculo_licenciado</th>\n",
       "      <th>garantia_de_fábrica</th>\n",
       "      <th>revisoes_dentro_agenda</th>\n",
       "      <th>veiculo_alienado</th>\n",
       "      <th>preco</th>\n",
       "    </tr>\n",
       "  </thead>\n",
       "  <tbody>\n",
       "    <tr>\n",
       "      <th>0</th>\n",
       "      <td>300716223898539419613863097469899222392</td>\n",
       "      <td>8.00</td>\n",
       "      <td>NISSAN</td>\n",
       "      <td>KICKS</td>\n",
       "      <td>1.6 16V FLEXSTART SL 4P XTRONIC</td>\n",
       "      <td>2017</td>\n",
       "      <td>2017.00</td>\n",
       "      <td>67772.00</td>\n",
       "      <td>CVT</td>\n",
       "      <td>4</td>\n",
       "      <td>Sedã</td>\n",
       "      <td>N</td>\n",
       "      <td>Branco</td>\n",
       "      <td>PF</td>\n",
       "      <td>Rio de Janeiro</td>\n",
       "      <td>São Paulo (SP)</td>\n",
       "      <td>Pessoa Física</td>\n",
       "      <td>False</td>\n",
       "      <td>False</td>\n",
       "      <td>False</td>\n",
       "      <td>NaN</td>\n",
       "      <td>NaN</td>\n",
       "      <td>Todas as revisões feitas pela concessionária</td>\n",
       "      <td>IPVA pago</td>\n",
       "      <td>Licenciado</td>\n",
       "      <td>NaN</td>\n",
       "      <td>NaN</td>\n",
       "      <td>NaN</td>\n",
       "      <td>74732.59</td>\n",
       "    </tr>\n",
       "    <tr>\n",
       "      <th>1</th>\n",
       "      <td>279639842134129588306469566150288644214</td>\n",
       "      <td>8.00</td>\n",
       "      <td>JEEP</td>\n",
       "      <td>COMPASS</td>\n",
       "      <td>2.0 16V FLEX LIMITED AUTOMÁTICO</td>\n",
       "      <td>2017</td>\n",
       "      <td>2017.00</td>\n",
       "      <td>62979.00</td>\n",
       "      <td>Automática</td>\n",
       "      <td>4</td>\n",
       "      <td>Sedã</td>\n",
       "      <td>N</td>\n",
       "      <td>Branco</td>\n",
       "      <td>PF</td>\n",
       "      <td>Belo Horizonte</td>\n",
       "      <td>Minas Gerais (MG)</td>\n",
       "      <td>Pessoa Física</td>\n",
       "      <td>False</td>\n",
       "      <td>False</td>\n",
       "      <td>False</td>\n",
       "      <td>Aceita troca</td>\n",
       "      <td>NaN</td>\n",
       "      <td>NaN</td>\n",
       "      <td>IPVA pago</td>\n",
       "      <td>NaN</td>\n",
       "      <td>NaN</td>\n",
       "      <td>NaN</td>\n",
       "      <td>NaN</td>\n",
       "      <td>81965.33</td>\n",
       "    </tr>\n",
       "    <tr>\n",
       "      <th>2</th>\n",
       "      <td>56414460810621048900295678236538171981</td>\n",
       "      <td>16.00</td>\n",
       "      <td>KIA</td>\n",
       "      <td>SORENTO</td>\n",
       "      <td>2.4 16V GASOLINA EX 7L AWD AUTOMÁTICO</td>\n",
       "      <td>2018</td>\n",
       "      <td>2019.00</td>\n",
       "      <td>44070.00</td>\n",
       "      <td>Automática</td>\n",
       "      <td>4</td>\n",
       "      <td>Sedã</td>\n",
       "      <td>N</td>\n",
       "      <td>Preto</td>\n",
       "      <td>PJ</td>\n",
       "      <td>Santos</td>\n",
       "      <td>São Paulo (SP)</td>\n",
       "      <td>Loja</td>\n",
       "      <td>True</td>\n",
       "      <td>False</td>\n",
       "      <td>False</td>\n",
       "      <td>Aceita troca</td>\n",
       "      <td>NaN</td>\n",
       "      <td>NaN</td>\n",
       "      <td>NaN</td>\n",
       "      <td>NaN</td>\n",
       "      <td>NaN</td>\n",
       "      <td>NaN</td>\n",
       "      <td>NaN</td>\n",
       "      <td>162824.81</td>\n",
       "    </tr>\n",
       "    <tr>\n",
       "      <th>3</th>\n",
       "      <td>56862509826849933428086372390159405545</td>\n",
       "      <td>14.00</td>\n",
       "      <td>VOLKSWAGEN</td>\n",
       "      <td>AMAROK</td>\n",
       "      <td>2.0 HIGHLINE 4X4 CD 16V TURBO INTERCOOLER DIES...</td>\n",
       "      <td>2013</td>\n",
       "      <td>2015.00</td>\n",
       "      <td>85357.00</td>\n",
       "      <td>Automática</td>\n",
       "      <td>4</td>\n",
       "      <td>Picape</td>\n",
       "      <td>N</td>\n",
       "      <td>Branco</td>\n",
       "      <td>PJ</td>\n",
       "      <td>Sorocaba</td>\n",
       "      <td>São Paulo (SP)</td>\n",
       "      <td>Loja</td>\n",
       "      <td>True</td>\n",
       "      <td>True</td>\n",
       "      <td>False</td>\n",
       "      <td>Aceita troca</td>\n",
       "      <td>NaN</td>\n",
       "      <td>NaN</td>\n",
       "      <td>IPVA pago</td>\n",
       "      <td>Licenciado</td>\n",
       "      <td>NaN</td>\n",
       "      <td>NaN</td>\n",
       "      <td>NaN</td>\n",
       "      <td>123681.36</td>\n",
       "    </tr>\n",
       "    <tr>\n",
       "      <th>4</th>\n",
       "      <td>338980975753200343894519909855598027197</td>\n",
       "      <td>8.00</td>\n",
       "      <td>SSANGYONG</td>\n",
       "      <td>KORANDO</td>\n",
       "      <td>2.0 GLS 4X4 16V TURBO DIESEL 4P AUTOMÁTICO</td>\n",
       "      <td>2013</td>\n",
       "      <td>2015.00</td>\n",
       "      <td>71491.00</td>\n",
       "      <td>Automática</td>\n",
       "      <td>4</td>\n",
       "      <td>Utilitário esportivo</td>\n",
       "      <td>N</td>\n",
       "      <td>Preto</td>\n",
       "      <td>PF</td>\n",
       "      <td>Rio de Janeiro</td>\n",
       "      <td>Rio de Janeiro (RJ)</td>\n",
       "      <td>Pessoa Física</td>\n",
       "      <td>False</td>\n",
       "      <td>False</td>\n",
       "      <td>False</td>\n",
       "      <td>NaN</td>\n",
       "      <td>NaN</td>\n",
       "      <td>Todas as revisões feitas pela concessionária</td>\n",
       "      <td>NaN</td>\n",
       "      <td>NaN</td>\n",
       "      <td>Garantia de fábrica</td>\n",
       "      <td>Todas as revisões feitas pela agenda do carro</td>\n",
       "      <td>NaN</td>\n",
       "      <td>82419.76</td>\n",
       "    </tr>\n",
       "  </tbody>\n",
       "</table>\n",
       "</div>"
      ],
      "text/plain": [
       "                                        id  num_fotos       marca   modelo  \\\n",
       "0  300716223898539419613863097469899222392       8.00      NISSAN    KICKS   \n",
       "1  279639842134129588306469566150288644214       8.00        JEEP  COMPASS   \n",
       "2   56414460810621048900295678236538171981      16.00         KIA  SORENTO   \n",
       "3   56862509826849933428086372390159405545      14.00  VOLKSWAGEN   AMAROK   \n",
       "4  338980975753200343894519909855598027197       8.00   SSANGYONG  KORANDO   \n",
       "\n",
       "                                              versao  ano_de_fabricacao  \\\n",
       "0                    1.6 16V FLEXSTART SL 4P XTRONIC               2017   \n",
       "1                    2.0 16V FLEX LIMITED AUTOMÁTICO               2017   \n",
       "2              2.4 16V GASOLINA EX 7L AWD AUTOMÁTICO               2018   \n",
       "3  2.0 HIGHLINE 4X4 CD 16V TURBO INTERCOOLER DIES...               2013   \n",
       "4         2.0 GLS 4X4 16V TURBO DIESEL 4P AUTOMÁTICO               2013   \n",
       "\n",
       "   ano_modelo  hodometro      cambio  num_portas                  tipo  \\\n",
       "0     2017.00   67772.00         CVT           4                  Sedã   \n",
       "1     2017.00   62979.00  Automática           4                  Sedã   \n",
       "2     2019.00   44070.00  Automática           4                  Sedã   \n",
       "3     2015.00   85357.00  Automática           4                Picape   \n",
       "4     2015.00   71491.00  Automática           4  Utilitário esportivo   \n",
       "\n",
       "  blindado     cor tipo_vendedor cidade_vendedor      estado_vendedor  \\\n",
       "0        N  Branco            PF  Rio de Janeiro       São Paulo (SP)   \n",
       "1        N  Branco            PF  Belo Horizonte    Minas Gerais (MG)   \n",
       "2        N   Preto            PJ          Santos       São Paulo (SP)   \n",
       "3        N  Branco            PJ        Sorocaba       São Paulo (SP)   \n",
       "4        N   Preto            PF  Rio de Janeiro  Rio de Janeiro (RJ)   \n",
       "\n",
       "      anunciante  entrega_delivery  troca  elegivel_revisao dono_aceita_troca  \\\n",
       "0  Pessoa Física             False  False             False               NaN   \n",
       "1  Pessoa Física             False  False             False      Aceita troca   \n",
       "2           Loja              True  False             False      Aceita troca   \n",
       "3           Loja              True   True             False      Aceita troca   \n",
       "4  Pessoa Física             False  False             False               NaN   \n",
       "\n",
       "  veiculo_único_dono                       revisoes_concessionaria  ipva_pago  \\\n",
       "0                NaN  Todas as revisões feitas pela concessionária  IPVA pago   \n",
       "1                NaN                                           NaN  IPVA pago   \n",
       "2                NaN                                           NaN        NaN   \n",
       "3                NaN                                           NaN  IPVA pago   \n",
       "4                NaN  Todas as revisões feitas pela concessionária        NaN   \n",
       "\n",
       "  veiculo_licenciado  garantia_de_fábrica  \\\n",
       "0         Licenciado                  NaN   \n",
       "1                NaN                  NaN   \n",
       "2                NaN                  NaN   \n",
       "3         Licenciado                  NaN   \n",
       "4                NaN  Garantia de fábrica   \n",
       "\n",
       "                          revisoes_dentro_agenda  veiculo_alienado     preco  \n",
       "0                                            NaN               NaN  74732.59  \n",
       "1                                            NaN               NaN  81965.33  \n",
       "2                                            NaN               NaN 162824.81  \n",
       "3                                            NaN               NaN 123681.36  \n",
       "4  Todas as revisões feitas pela agenda do carro               NaN  82419.76  "
      ]
     },
     "execution_count": 2,
     "metadata": {},
     "output_type": "execute_result"
    },
    {
     "data": {
      "application/javascript": [
       "\n",
       "            setTimeout(function() {\n",
       "                var nbb_cell_id = 2;\n",
       "                var nbb_unformatted_code = \"df = pd.read_csv(\\\"cars_train.csv\\\", encoding=\\\"utf-16\\\", sep=\\\"\\\\t\\\")\\ndf.head()\";\n",
       "                var nbb_formatted_code = \"df = pd.read_csv(\\\"cars_train.csv\\\", encoding=\\\"utf-16\\\", sep=\\\"\\\\t\\\")\\ndf.head()\";\n",
       "                var nbb_cells = Jupyter.notebook.get_cells();\n",
       "                for (var i = 0; i < nbb_cells.length; ++i) {\n",
       "                    if (nbb_cells[i].input_prompt_number == nbb_cell_id) {\n",
       "                        if (nbb_cells[i].get_text() == nbb_unformatted_code) {\n",
       "                             nbb_cells[i].set_text(nbb_formatted_code);\n",
       "                        }\n",
       "                        break;\n",
       "                    }\n",
       "                }\n",
       "            }, 500);\n",
       "            "
      ],
      "text/plain": [
       "<IPython.core.display.Javascript object>"
      ]
     },
     "metadata": {},
     "output_type": "display_data"
    }
   ],
   "source": [
    "df = pd.read_csv(\"cars_train.csv\", encoding=\"utf-16\", sep=\"\\t\")\n",
    "df.head()"
   ]
  },
  {
   "cell_type": "markdown",
   "id": "dd196ef1",
   "metadata": {},
   "source": [
    "## Explorando os Dados"
   ]
  },
  {
   "cell_type": "code",
   "execution_count": 3,
   "id": "56cd9864",
   "metadata": {},
   "outputs": [
    {
     "data": {
      "text/plain": [
       "(29584, 29)"
      ]
     },
     "execution_count": 3,
     "metadata": {},
     "output_type": "execute_result"
    },
    {
     "data": {
      "application/javascript": [
       "\n",
       "            setTimeout(function() {\n",
       "                var nbb_cell_id = 3;\n",
       "                var nbb_unformatted_code = \"# Verificando o formato do dataset\\ndf.shape\";\n",
       "                var nbb_formatted_code = \"# Verificando o formato do dataset\\ndf.shape\";\n",
       "                var nbb_cells = Jupyter.notebook.get_cells();\n",
       "                for (var i = 0; i < nbb_cells.length; ++i) {\n",
       "                    if (nbb_cells[i].input_prompt_number == nbb_cell_id) {\n",
       "                        if (nbb_cells[i].get_text() == nbb_unformatted_code) {\n",
       "                             nbb_cells[i].set_text(nbb_formatted_code);\n",
       "                        }\n",
       "                        break;\n",
       "                    }\n",
       "                }\n",
       "            }, 500);\n",
       "            "
      ],
      "text/plain": [
       "<IPython.core.display.Javascript object>"
      ]
     },
     "metadata": {},
     "output_type": "display_data"
    }
   ],
   "source": [
    "# Verificando o formato do dataset\n",
    "df.shape"
   ]
  },
  {
   "cell_type": "code",
   "execution_count": 4,
   "id": "28e036cf",
   "metadata": {},
   "outputs": [
    {
     "name": "stdout",
     "output_type": "stream",
     "text": [
      "<class 'pandas.core.frame.DataFrame'>\n",
      "RangeIndex: 29584 entries, 0 to 29583\n",
      "Data columns (total 29 columns):\n",
      " #   Column                   Non-Null Count  Dtype  \n",
      "---  ------                   --------------  -----  \n",
      " 0   id                       29584 non-null  object \n",
      " 1   num_fotos                29407 non-null  float64\n",
      " 2   marca                    29584 non-null  object \n",
      " 3   modelo                   29584 non-null  object \n",
      " 4   versao                   29584 non-null  object \n",
      " 5   ano_de_fabricacao        29584 non-null  int64  \n",
      " 6   ano_modelo               29584 non-null  float64\n",
      " 7   hodometro                29584 non-null  float64\n",
      " 8   cambio                   29584 non-null  object \n",
      " 9   num_portas               29584 non-null  int64  \n",
      " 10  tipo                     29584 non-null  object \n",
      " 11  blindado                 29584 non-null  object \n",
      " 12  cor                      29584 non-null  object \n",
      " 13  tipo_vendedor            29584 non-null  object \n",
      " 14  cidade_vendedor          29584 non-null  object \n",
      " 15  estado_vendedor          29584 non-null  object \n",
      " 16  anunciante               29584 non-null  object \n",
      " 17  entrega_delivery         29584 non-null  bool   \n",
      " 18  troca                    29584 non-null  bool   \n",
      " 19  elegivel_revisao         29584 non-null  bool   \n",
      " 20  dono_aceita_troca        21922 non-null  object \n",
      " 21  veiculo_único_dono       10423 non-null  object \n",
      " 22  revisoes_concessionaria  9172 non-null   object \n",
      " 23  ipva_pago                19659 non-null  object \n",
      " 24  veiculo_licenciado       15906 non-null  object \n",
      " 25  garantia_de_fábrica      4365 non-null   object \n",
      " 26  revisoes_dentro_agenda   5910 non-null   object \n",
      " 27  veiculo_alienado         0 non-null      float64\n",
      " 28  preco                    29584 non-null  float64\n",
      "dtypes: bool(3), float64(5), int64(2), object(19)\n",
      "memory usage: 6.0+ MB\n"
     ]
    },
    {
     "data": {
      "application/javascript": [
       "\n",
       "            setTimeout(function() {\n",
       "                var nbb_cell_id = 4;\n",
       "                var nbb_unformatted_code = \"# Verificando os tipos das vari\\u00e1veis\\ndf.info()\";\n",
       "                var nbb_formatted_code = \"# Verificando os tipos das vari\\u00e1veis\\ndf.info()\";\n",
       "                var nbb_cells = Jupyter.notebook.get_cells();\n",
       "                for (var i = 0; i < nbb_cells.length; ++i) {\n",
       "                    if (nbb_cells[i].input_prompt_number == nbb_cell_id) {\n",
       "                        if (nbb_cells[i].get_text() == nbb_unformatted_code) {\n",
       "                             nbb_cells[i].set_text(nbb_formatted_code);\n",
       "                        }\n",
       "                        break;\n",
       "                    }\n",
       "                }\n",
       "            }, 500);\n",
       "            "
      ],
      "text/plain": [
       "<IPython.core.display.Javascript object>"
      ]
     },
     "metadata": {},
     "output_type": "display_data"
    }
   ],
   "source": [
    "# Verificando os tipos das variáveis\n",
    "df.info()"
   ]
  },
  {
   "cell_type": "markdown",
   "id": "5a2daf13",
   "metadata": {},
   "source": [
    "Vamos aplicar a nossa análise estatística apenas as variáveis numéricas, por isso iremos filtrar o nosso dataset, excluindo a variável \"veiculo_alienado\" por ser composto por apenas valores *missing*, e a nossa variável *target*, pois não nos interessa analisá-la agora."
   ]
  },
  {
   "cell_type": "code",
   "execution_count": 5,
   "id": "c129d701",
   "metadata": {},
   "outputs": [
    {
     "data": {
      "text/html": [
       "<div>\n",
       "<style scoped>\n",
       "    .dataframe tbody tr th:only-of-type {\n",
       "        vertical-align: middle;\n",
       "    }\n",
       "\n",
       "    .dataframe tbody tr th {\n",
       "        vertical-align: top;\n",
       "    }\n",
       "\n",
       "    .dataframe thead th {\n",
       "        text-align: right;\n",
       "    }\n",
       "</style>\n",
       "<table border=\"1\" class=\"dataframe\">\n",
       "  <thead>\n",
       "    <tr style=\"text-align: right;\">\n",
       "      <th></th>\n",
       "      <th>num_fotos</th>\n",
       "      <th>ano_de_fabricacao</th>\n",
       "      <th>ano_modelo</th>\n",
       "      <th>hodometro</th>\n",
       "      <th>num_portas</th>\n",
       "    </tr>\n",
       "  </thead>\n",
       "  <tbody>\n",
       "    <tr>\n",
       "      <th>0</th>\n",
       "      <td>8.00</td>\n",
       "      <td>2017</td>\n",
       "      <td>2017.00</td>\n",
       "      <td>67772.00</td>\n",
       "      <td>4</td>\n",
       "    </tr>\n",
       "    <tr>\n",
       "      <th>1</th>\n",
       "      <td>8.00</td>\n",
       "      <td>2017</td>\n",
       "      <td>2017.00</td>\n",
       "      <td>62979.00</td>\n",
       "      <td>4</td>\n",
       "    </tr>\n",
       "    <tr>\n",
       "      <th>2</th>\n",
       "      <td>16.00</td>\n",
       "      <td>2018</td>\n",
       "      <td>2019.00</td>\n",
       "      <td>44070.00</td>\n",
       "      <td>4</td>\n",
       "    </tr>\n",
       "    <tr>\n",
       "      <th>3</th>\n",
       "      <td>14.00</td>\n",
       "      <td>2013</td>\n",
       "      <td>2015.00</td>\n",
       "      <td>85357.00</td>\n",
       "      <td>4</td>\n",
       "    </tr>\n",
       "    <tr>\n",
       "      <th>4</th>\n",
       "      <td>8.00</td>\n",
       "      <td>2013</td>\n",
       "      <td>2015.00</td>\n",
       "      <td>71491.00</td>\n",
       "      <td>4</td>\n",
       "    </tr>\n",
       "  </tbody>\n",
       "</table>\n",
       "</div>"
      ],
      "text/plain": [
       "   num_fotos  ano_de_fabricacao  ano_modelo  hodometro  num_portas\n",
       "0       8.00               2017     2017.00   67772.00           4\n",
       "1       8.00               2017     2017.00   62979.00           4\n",
       "2      16.00               2018     2019.00   44070.00           4\n",
       "3      14.00               2013     2015.00   85357.00           4\n",
       "4       8.00               2013     2015.00   71491.00           4"
      ]
     },
     "execution_count": 5,
     "metadata": {},
     "output_type": "execute_result"
    },
    {
     "data": {
      "application/javascript": [
       "\n",
       "            setTimeout(function() {\n",
       "                var nbb_cell_id = 5;\n",
       "                var nbb_unformatted_code = \"# Filtrando nosso dataset\\ndf = df[[\\\"num_fotos\\\", \\\"ano_de_fabricacao\\\", \\\"ano_modelo\\\", \\\"hodometro\\\", \\\"num_portas\\\"]]\\ndf.head()\";\n",
       "                var nbb_formatted_code = \"# Filtrando nosso dataset\\ndf = df[[\\\"num_fotos\\\", \\\"ano_de_fabricacao\\\", \\\"ano_modelo\\\", \\\"hodometro\\\", \\\"num_portas\\\"]]\\ndf.head()\";\n",
       "                var nbb_cells = Jupyter.notebook.get_cells();\n",
       "                for (var i = 0; i < nbb_cells.length; ++i) {\n",
       "                    if (nbb_cells[i].input_prompt_number == nbb_cell_id) {\n",
       "                        if (nbb_cells[i].get_text() == nbb_unformatted_code) {\n",
       "                             nbb_cells[i].set_text(nbb_formatted_code);\n",
       "                        }\n",
       "                        break;\n",
       "                    }\n",
       "                }\n",
       "            }, 500);\n",
       "            "
      ],
      "text/plain": [
       "<IPython.core.display.Javascript object>"
      ]
     },
     "metadata": {},
     "output_type": "display_data"
    }
   ],
   "source": [
    "# Filtrando nosso dataset\n",
    "df = df[[\"num_fotos\", \"ano_de_fabricacao\", \"ano_modelo\", \"hodometro\", \"num_portas\"]]\n",
    "df.head()"
   ]
  },
  {
   "cell_type": "markdown",
   "id": "23a1bfd3",
   "metadata": {},
   "source": [
    "## Pré-Processamento dos Dados"
   ]
  },
  {
   "cell_type": "code",
   "execution_count": 6,
   "id": "98b37dff",
   "metadata": {},
   "outputs": [
    {
     "data": {
      "text/plain": [
       "num_fotos            177\n",
       "ano_de_fabricacao      0\n",
       "ano_modelo             0\n",
       "hodometro              0\n",
       "num_portas             0\n",
       "dtype: int64"
      ]
     },
     "execution_count": 6,
     "metadata": {},
     "output_type": "execute_result"
    },
    {
     "data": {
      "application/javascript": [
       "\n",
       "            setTimeout(function() {\n",
       "                var nbb_cell_id = 6;\n",
       "                var nbb_unformatted_code = \"# Analisando valores missing\\ndf.isnull().sum()\";\n",
       "                var nbb_formatted_code = \"# Analisando valores missing\\ndf.isnull().sum()\";\n",
       "                var nbb_cells = Jupyter.notebook.get_cells();\n",
       "                for (var i = 0; i < nbb_cells.length; ++i) {\n",
       "                    if (nbb_cells[i].input_prompt_number == nbb_cell_id) {\n",
       "                        if (nbb_cells[i].get_text() == nbb_unformatted_code) {\n",
       "                             nbb_cells[i].set_text(nbb_formatted_code);\n",
       "                        }\n",
       "                        break;\n",
       "                    }\n",
       "                }\n",
       "            }, 500);\n",
       "            "
      ],
      "text/plain": [
       "<IPython.core.display.Javascript object>"
      ]
     },
     "metadata": {},
     "output_type": "display_data"
    }
   ],
   "source": [
    "# Analisando valores missing\n",
    "df.isnull().sum()"
   ]
  },
  {
   "cell_type": "code",
   "execution_count": 7,
   "id": "cebe8469",
   "metadata": {},
   "outputs": [
    {
     "data": {
      "text/plain": [
       "8.00    0.66\n",
       "15.00   0.09\n",
       "16.00   0.08\n",
       "14.00   0.06\n",
       "17.00   0.03\n",
       "9.00    0.02\n",
       "13.00   0.02\n",
       "20.00   0.01\n",
       "18.00   0.01\n",
       "12.00   0.00\n",
       "19.00   0.00\n",
       "11.00   0.00\n",
       "21.00   0.00\n",
       "10.00   0.00\n",
       "Name: num_fotos, dtype: float64"
      ]
     },
     "execution_count": 7,
     "metadata": {},
     "output_type": "execute_result"
    },
    {
     "data": {
      "application/javascript": [
       "\n",
       "            setTimeout(function() {\n",
       "                var nbb_cell_id = 7;\n",
       "                var nbb_unformatted_code = \"# Analisando a vari\\u00e1vel num_fotos para preenchimento dos valores missing\\ndf[\\\"num_fotos\\\"].value_counts(normalize=True)\";\n",
       "                var nbb_formatted_code = \"# Analisando a vari\\u00e1vel num_fotos para preenchimento dos valores missing\\ndf[\\\"num_fotos\\\"].value_counts(normalize=True)\";\n",
       "                var nbb_cells = Jupyter.notebook.get_cells();\n",
       "                for (var i = 0; i < nbb_cells.length; ++i) {\n",
       "                    if (nbb_cells[i].input_prompt_number == nbb_cell_id) {\n",
       "                        if (nbb_cells[i].get_text() == nbb_unformatted_code) {\n",
       "                             nbb_cells[i].set_text(nbb_formatted_code);\n",
       "                        }\n",
       "                        break;\n",
       "                    }\n",
       "                }\n",
       "            }, 500);\n",
       "            "
      ],
      "text/plain": [
       "<IPython.core.display.Javascript object>"
      ]
     },
     "metadata": {},
     "output_type": "display_data"
    }
   ],
   "source": [
    "# Analisando a variável num_fotos para preenchimento dos valores missing\n",
    "df[\"num_fotos\"].value_counts(normalize=True)"
   ]
  },
  {
   "cell_type": "code",
   "execution_count": 8,
   "id": "3726abd0",
   "metadata": {},
   "outputs": [
    {
     "name": "stdout",
     "output_type": "stream",
     "text": [
      "'media': 10.323834461182711, 'mediana': 8.0\n"
     ]
    },
    {
     "data": {
      "application/javascript": [
       "\n",
       "            setTimeout(function() {\n",
       "                var nbb_cell_id = 8;\n",
       "                var nbb_unformatted_code = \"# Analisando as vari\\u00e1veis de tend\\u00eancia central\\nnum_fotos_mean = df[\\\"num_fotos\\\"].mean()\\nnum_fotos_median = df[\\\"num_fotos\\\"].median()\\n\\nprint(f\\\"'media': {num_fotos_mean}, 'mediana': {num_fotos_median}\\\")\";\n",
       "                var nbb_formatted_code = \"# Analisando as vari\\u00e1veis de tend\\u00eancia central\\nnum_fotos_mean = df[\\\"num_fotos\\\"].mean()\\nnum_fotos_median = df[\\\"num_fotos\\\"].median()\\n\\nprint(f\\\"'media': {num_fotos_mean}, 'mediana': {num_fotos_median}\\\")\";\n",
       "                var nbb_cells = Jupyter.notebook.get_cells();\n",
       "                for (var i = 0; i < nbb_cells.length; ++i) {\n",
       "                    if (nbb_cells[i].input_prompt_number == nbb_cell_id) {\n",
       "                        if (nbb_cells[i].get_text() == nbb_unformatted_code) {\n",
       "                             nbb_cells[i].set_text(nbb_formatted_code);\n",
       "                        }\n",
       "                        break;\n",
       "                    }\n",
       "                }\n",
       "            }, 500);\n",
       "            "
      ],
      "text/plain": [
       "<IPython.core.display.Javascript object>"
      ]
     },
     "metadata": {},
     "output_type": "display_data"
    }
   ],
   "source": [
    "# Analisando as variáveis de tendência central\n",
    "num_fotos_mean = df[\"num_fotos\"].mean()\n",
    "num_fotos_median = df[\"num_fotos\"].median()\n",
    "\n",
    "print(f\"'media': {num_fotos_mean}, 'mediana': {num_fotos_median}\")"
   ]
  },
  {
   "cell_type": "markdown",
   "id": "1442e302",
   "metadata": {},
   "source": [
    "**Vamos escolher o valor 8 para preencher os valores missing, pois ele é a mediana e a moda da variável (com 66% dos registros)**"
   ]
  },
  {
   "cell_type": "code",
   "execution_count": 9,
   "id": "ef876b0c",
   "metadata": {},
   "outputs": [
    {
     "data": {
      "application/javascript": [
       "\n",
       "            setTimeout(function() {\n",
       "                var nbb_cell_id = 9;\n",
       "                var nbb_unformatted_code = \"# Preenchendo os valores missing\\ndf[\\\"num_fotos\\\"] = df[\\\"num_fotos\\\"].fillna(8)\";\n",
       "                var nbb_formatted_code = \"# Preenchendo os valores missing\\ndf[\\\"num_fotos\\\"] = df[\\\"num_fotos\\\"].fillna(8)\";\n",
       "                var nbb_cells = Jupyter.notebook.get_cells();\n",
       "                for (var i = 0; i < nbb_cells.length; ++i) {\n",
       "                    if (nbb_cells[i].input_prompt_number == nbb_cell_id) {\n",
       "                        if (nbb_cells[i].get_text() == nbb_unformatted_code) {\n",
       "                             nbb_cells[i].set_text(nbb_formatted_code);\n",
       "                        }\n",
       "                        break;\n",
       "                    }\n",
       "                }\n",
       "            }, 500);\n",
       "            "
      ],
      "text/plain": [
       "<IPython.core.display.Javascript object>"
      ]
     },
     "metadata": {},
     "output_type": "display_data"
    }
   ],
   "source": [
    "# Preenchendo os valores missing\n",
    "df[\"num_fotos\"] = df[\"num_fotos\"].fillna(8)"
   ]
  },
  {
   "cell_type": "code",
   "execution_count": 10,
   "id": "07b972ff",
   "metadata": {},
   "outputs": [
    {
     "data": {
      "text/plain": [
       "num_fotos            0\n",
       "ano_de_fabricacao    0\n",
       "ano_modelo           0\n",
       "hodometro            0\n",
       "num_portas           0\n",
       "dtype: int64"
      ]
     },
     "execution_count": 10,
     "metadata": {},
     "output_type": "execute_result"
    },
    {
     "data": {
      "application/javascript": [
       "\n",
       "            setTimeout(function() {\n",
       "                var nbb_cell_id = 10;\n",
       "                var nbb_unformatted_code = \"# Analisando se a imputa\\u00e7\\u00e3o deu certo\\ndf.isnull().sum()\";\n",
       "                var nbb_formatted_code = \"# Analisando se a imputa\\u00e7\\u00e3o deu certo\\ndf.isnull().sum()\";\n",
       "                var nbb_cells = Jupyter.notebook.get_cells();\n",
       "                for (var i = 0; i < nbb_cells.length; ++i) {\n",
       "                    if (nbb_cells[i].input_prompt_number == nbb_cell_id) {\n",
       "                        if (nbb_cells[i].get_text() == nbb_unformatted_code) {\n",
       "                             nbb_cells[i].set_text(nbb_formatted_code);\n",
       "                        }\n",
       "                        break;\n",
       "                    }\n",
       "                }\n",
       "            }, 500);\n",
       "            "
      ],
      "text/plain": [
       "<IPython.core.display.Javascript object>"
      ]
     },
     "metadata": {},
     "output_type": "display_data"
    }
   ],
   "source": [
    "# Analisando se a imputação deu certo\n",
    "df.isnull().sum()"
   ]
  },
  {
   "cell_type": "markdown",
   "id": "7bc007bf",
   "metadata": {},
   "source": [
    "## Aplicando a Análise Estatística \n",
    "\n",
    "Faremos uma análise descevrendo três estatísticas de medica central, e duas estatísticas de dispersão. \n",
    "\n",
    "As medidas de tendência central representam um valor central ou um valor típico dentro de um conjunto de valores. As medidas mais comuns e que usaremos aqui são:\n",
    "\n",
    "**- Média: é a soma de todos registros dividos pelo número de registros. É afetado por valores outliers, o que a torna em muitos casos uma estatística pouco resistente.**\n",
    "\n",
    "**- Mediana: é o valor central de um conjunto de valores ordenados de forma crescente. Neste caso, ela não é afetada por valores outlieres, o que a torna mais resistente.**\n",
    "\n",
    "**- Moda: É o valor que mais se repete dentro de um conjunto.**\n",
    "\n",
    "As medidas de dispersão nos indicam o quão espalhados estão nossos dados, ou como eles variam. Usaremos aqui as seguintes medidas de dispersão:\n",
    "\n",
    "**- Desvio Padrão: indica o quanto os dados estão afastados da média. Um valor de desvio padrão alto indica que os valores estão mais dispersos e um valor mais baixo indica que os valores estão mais próximos da média.** \n",
    "\n",
    "**- Variância: indica o quanto os dados estão afastados de seu valor esperado. É o desvio padrão elevado ao quadrado.**\n",
    "\n",
    "**- Amplitude: é a subtração entre o maior valor pelo menor valor do nosso conjunto de dados. Quanto mais alto for seu resultado, maior sinal de que os nossos estão mais dispersos.**\n",
    "\n",
    "Também vamos utilizar na nossa análise os gráficos Boxplot e Histograma.\n",
    "\n",
    "A escolha por utilizar o Boxplot é por ser um gráfico muito comlpleto no meu entendimento. A partir dele podemos ter insights referentes a distribuição da nossa variável, ao valor mínimo e valor máximo, aos percentis, a mediana, e ao que eu julgo uma das coisas mais interessantes neste tipo de gráfico, podemos analisar os outliers existentes na variável. Ele analisado juntamente com a função describe(), é uma poderosa ferramenta para anaĺise de nossas variáveis.\n",
    "\n",
    "O Histograma é outro gráfico importante para nos dizer como está a distribuição dos nossos dados, julgo que ele é visualmente melhor que o Boxplot quando queremos analisar apenas esta informação. Através dele conseguimos rapidamente identificar se nosso gráfico é simẃtrico, assimétrico negativo ou assimétrico positivo.\n"
   ]
  },
  {
   "cell_type": "code",
   "execution_count": 11,
   "id": "ee04fb31",
   "metadata": {},
   "outputs": [
    {
     "data": {
      "text/html": [
       "<div>\n",
       "<style scoped>\n",
       "    .dataframe tbody tr th:only-of-type {\n",
       "        vertical-align: middle;\n",
       "    }\n",
       "\n",
       "    .dataframe tbody tr th {\n",
       "        vertical-align: top;\n",
       "    }\n",
       "\n",
       "    .dataframe thead th {\n",
       "        text-align: right;\n",
       "    }\n",
       "</style>\n",
       "<table border=\"1\" class=\"dataframe\">\n",
       "  <thead>\n",
       "    <tr style=\"text-align: right;\">\n",
       "      <th></th>\n",
       "      <th>num_fotos</th>\n",
       "      <th>ano_de_fabricacao</th>\n",
       "      <th>ano_modelo</th>\n",
       "      <th>hodometro</th>\n",
       "      <th>num_portas</th>\n",
       "    </tr>\n",
       "  </thead>\n",
       "  <tbody>\n",
       "    <tr>\n",
       "      <th>count</th>\n",
       "      <td>29584.00</td>\n",
       "      <td>29584.00</td>\n",
       "      <td>29584.00</td>\n",
       "      <td>29584.00</td>\n",
       "      <td>29584.00</td>\n",
       "    </tr>\n",
       "    <tr>\n",
       "      <th>mean</th>\n",
       "      <td>10.31</td>\n",
       "      <td>2016.76</td>\n",
       "      <td>2017.81</td>\n",
       "      <td>58430.59</td>\n",
       "      <td>3.94</td>\n",
       "    </tr>\n",
       "    <tr>\n",
       "      <th>std</th>\n",
       "      <td>3.48</td>\n",
       "      <td>4.06</td>\n",
       "      <td>2.67</td>\n",
       "      <td>32561.77</td>\n",
       "      <td>0.34</td>\n",
       "    </tr>\n",
       "    <tr>\n",
       "      <th>min</th>\n",
       "      <td>8.00</td>\n",
       "      <td>1985.00</td>\n",
       "      <td>1997.00</td>\n",
       "      <td>100.00</td>\n",
       "      <td>2.00</td>\n",
       "    </tr>\n",
       "    <tr>\n",
       "      <th>25%</th>\n",
       "      <td>8.00</td>\n",
       "      <td>2015.00</td>\n",
       "      <td>2016.00</td>\n",
       "      <td>31214.00</td>\n",
       "      <td>4.00</td>\n",
       "    </tr>\n",
       "    <tr>\n",
       "      <th>50%</th>\n",
       "      <td>8.00</td>\n",
       "      <td>2018.00</td>\n",
       "      <td>2018.00</td>\n",
       "      <td>57434.00</td>\n",
       "      <td>4.00</td>\n",
       "    </tr>\n",
       "    <tr>\n",
       "      <th>75%</th>\n",
       "      <td>14.00</td>\n",
       "      <td>2019.00</td>\n",
       "      <td>2020.00</td>\n",
       "      <td>81953.50</td>\n",
       "      <td>4.00</td>\n",
       "    </tr>\n",
       "    <tr>\n",
       "      <th>max</th>\n",
       "      <td>21.00</td>\n",
       "      <td>2022.00</td>\n",
       "      <td>2023.00</td>\n",
       "      <td>390065.00</td>\n",
       "      <td>4.00</td>\n",
       "    </tr>\n",
       "  </tbody>\n",
       "</table>\n",
       "</div>"
      ],
      "text/plain": [
       "       num_fotos  ano_de_fabricacao  ano_modelo  hodometro  num_portas\n",
       "count   29584.00           29584.00    29584.00   29584.00    29584.00\n",
       "mean       10.31            2016.76     2017.81   58430.59        3.94\n",
       "std         3.48               4.06        2.67   32561.77        0.34\n",
       "min         8.00            1985.00     1997.00     100.00        2.00\n",
       "25%         8.00            2015.00     2016.00   31214.00        4.00\n",
       "50%         8.00            2018.00     2018.00   57434.00        4.00\n",
       "75%        14.00            2019.00     2020.00   81953.50        4.00\n",
       "max        21.00            2022.00     2023.00  390065.00        4.00"
      ]
     },
     "execution_count": 11,
     "metadata": {},
     "output_type": "execute_result"
    },
    {
     "data": {
      "application/javascript": [
       "\n",
       "            setTimeout(function() {\n",
       "                var nbb_cell_id = 11;\n",
       "                var nbb_unformatted_code = \"# Resumo estat\\u00edstico das vari\\u00e1veis\\ndf.describe()\";\n",
       "                var nbb_formatted_code = \"# Resumo estat\\u00edstico das vari\\u00e1veis\\ndf.describe()\";\n",
       "                var nbb_cells = Jupyter.notebook.get_cells();\n",
       "                for (var i = 0; i < nbb_cells.length; ++i) {\n",
       "                    if (nbb_cells[i].input_prompt_number == nbb_cell_id) {\n",
       "                        if (nbb_cells[i].get_text() == nbb_unformatted_code) {\n",
       "                             nbb_cells[i].set_text(nbb_formatted_code);\n",
       "                        }\n",
       "                        break;\n",
       "                    }\n",
       "                }\n",
       "            }, 500);\n",
       "            "
      ],
      "text/plain": [
       "<IPython.core.display.Javascript object>"
      ]
     },
     "metadata": {},
     "output_type": "display_data"
    }
   ],
   "source": [
    "# Resumo estatístico das variáveis\n",
    "df.describe()"
   ]
  },
  {
   "cell_type": "markdown",
   "id": "2ca6c5cb",
   "metadata": {},
   "source": [
    "A função describe já nos oferece informações relevantes sobre as estatísticas de cada uma das variáveis. Mas vamos analisar cada uma das variáveis individualmente."
   ]
  },
  {
   "cell_type": "markdown",
   "id": "5e86af73",
   "metadata": {},
   "source": [
    "### Análise da Variável num_fotos"
   ]
  },
  {
   "cell_type": "code",
   "execution_count": 12,
   "id": "4caefa38",
   "metadata": {},
   "outputs": [
    {
     "name": "stdout",
     "output_type": "stream",
     "text": [
      " As estatísticas referentes a medidas de tendência central para a variável num_fotos são:\n",
      " Media: 10.31\n",
      " Mediana: 8.0\n",
      " Moda: 8.0\n",
      "\n",
      " As estatísticas referentes a medidas de dispersão para a variável num_fotos são:\n",
      " Desvio Padrão: 3.48\n",
      " Variância: 12.0\n",
      " Amplitude: 13.0\n"
     ]
    },
    {
     "data": {
      "application/javascript": [
       "\n",
       "            setTimeout(function() {\n",
       "                var nbb_cell_id = 12;\n",
       "                var nbb_unformatted_code = \"# Calculando as medidas de tend\\u00eancia central\\n\\n# M\\u00e9dia\\nmean_num_fotos = round(df[\\\"num_fotos\\\"].mean(), 2)\\n\\n# Mediana\\nmedian_num_fotos = df[\\\"num_fotos\\\"].median()\\n\\n# Moda\\nmoda_num_fotos = statistics.mode(df[\\\"num_fotos\\\"])\\n\\n# Calculando as medias de dispers\\u00e3o\\n\\n# Desvio Padr\\u00e3o\\nstd_num_fotos = np.std(df[\\\"num_fotos\\\"])\\nstd_num_fotos = np.around(std_num_fotos, 2)\\n\\n# Vari\\u00e2ncia\\nvar_num_fotos = np.var(df[\\\"num_fotos\\\"])\\nvar_num_fotos = np.around(var_num_fotos)\\n\\n# Amplitude\\namp_num_fotos = df[\\\"num_fotos\\\"].max() - df[\\\"num_fotos\\\"].min()\\n\\nprint(\\n    f\\\" As estat\\u00edsticas referentes a medidas de tend\\u00eancia central para a vari\\u00e1vel num_fotos s\\u00e3o:\\\\n Media: {mean_num_fotos}\\\\n Mediana: {median_num_fotos}\\\\n Moda: {moda_num_fotos}\\\\n\\\\n As estat\\u00edsticas referentes a medidas de dispers\\u00e3o para a vari\\u00e1vel num_fotos s\\u00e3o:\\\\n Desvio Padr\\u00e3o: {std_num_fotos}\\\\n Vari\\u00e2ncia: {var_num_fotos}\\\\n Amplitude: {amp_num_fotos}\\\"\\n)\";\n",
       "                var nbb_formatted_code = \"# Calculando as medidas de tend\\u00eancia central\\n\\n# M\\u00e9dia\\nmean_num_fotos = round(df[\\\"num_fotos\\\"].mean(), 2)\\n\\n# Mediana\\nmedian_num_fotos = df[\\\"num_fotos\\\"].median()\\n\\n# Moda\\nmoda_num_fotos = statistics.mode(df[\\\"num_fotos\\\"])\\n\\n# Calculando as medias de dispers\\u00e3o\\n\\n# Desvio Padr\\u00e3o\\nstd_num_fotos = np.std(df[\\\"num_fotos\\\"])\\nstd_num_fotos = np.around(std_num_fotos, 2)\\n\\n# Vari\\u00e2ncia\\nvar_num_fotos = np.var(df[\\\"num_fotos\\\"])\\nvar_num_fotos = np.around(var_num_fotos)\\n\\n# Amplitude\\namp_num_fotos = df[\\\"num_fotos\\\"].max() - df[\\\"num_fotos\\\"].min()\\n\\nprint(\\n    f\\\" As estat\\u00edsticas referentes a medidas de tend\\u00eancia central para a vari\\u00e1vel num_fotos s\\u00e3o:\\\\n Media: {mean_num_fotos}\\\\n Mediana: {median_num_fotos}\\\\n Moda: {moda_num_fotos}\\\\n\\\\n As estat\\u00edsticas referentes a medidas de dispers\\u00e3o para a vari\\u00e1vel num_fotos s\\u00e3o:\\\\n Desvio Padr\\u00e3o: {std_num_fotos}\\\\n Vari\\u00e2ncia: {var_num_fotos}\\\\n Amplitude: {amp_num_fotos}\\\"\\n)\";\n",
       "                var nbb_cells = Jupyter.notebook.get_cells();\n",
       "                for (var i = 0; i < nbb_cells.length; ++i) {\n",
       "                    if (nbb_cells[i].input_prompt_number == nbb_cell_id) {\n",
       "                        if (nbb_cells[i].get_text() == nbb_unformatted_code) {\n",
       "                             nbb_cells[i].set_text(nbb_formatted_code);\n",
       "                        }\n",
       "                        break;\n",
       "                    }\n",
       "                }\n",
       "            }, 500);\n",
       "            "
      ],
      "text/plain": [
       "<IPython.core.display.Javascript object>"
      ]
     },
     "metadata": {},
     "output_type": "display_data"
    }
   ],
   "source": [
    "# Calculando as medidas de tendência central\n",
    "\n",
    "# Média\n",
    "mean_num_fotos = round(df[\"num_fotos\"].mean(), 2)\n",
    "\n",
    "# Mediana\n",
    "median_num_fotos = df[\"num_fotos\"].median()\n",
    "\n",
    "# Moda\n",
    "moda_num_fotos = statistics.mode(df[\"num_fotos\"])\n",
    "\n",
    "# Calculando as medias de dispersão\n",
    "\n",
    "# Desvio Padrão\n",
    "std_num_fotos = np.std(df[\"num_fotos\"])\n",
    "std_num_fotos = np.around(std_num_fotos, 2)\n",
    "\n",
    "# Variância\n",
    "var_num_fotos = np.var(df[\"num_fotos\"])\n",
    "var_num_fotos = np.around(var_num_fotos)\n",
    "\n",
    "# Amplitude\n",
    "amp_num_fotos = df[\"num_fotos\"].max() - df[\"num_fotos\"].min()\n",
    "\n",
    "print(\n",
    "    f\" As estatísticas referentes a medidas de tendência central para a variável num_fotos são:\\n Media: {mean_num_fotos}\\n Mediana: {median_num_fotos}\\n Moda: {moda_num_fotos}\\n\\n As estatísticas referentes a medidas de dispersão para a variável num_fotos são:\\n Desvio Padrão: {std_num_fotos}\\n Variância: {var_num_fotos}\\n Amplitude: {amp_num_fotos}\"\n",
    ")"
   ]
  },
  {
   "cell_type": "code",
   "execution_count": 34,
   "id": "ee75b56b",
   "metadata": {},
   "outputs": [
    {
     "data": {
      "image/png": "[encoded data removed]",
      "text/plain": [
       "<Figure size 640x480 with 1 Axes>"
      ]
     },
     "metadata": {},
     "output_type": "display_data"
    },
    {
     "data": {
      "application/javascript": [
       "\n",
       "            setTimeout(function() {\n",
       "                var nbb_cell_id = 34;\n",
       "                var nbb_unformatted_code = \"# Boxplot\\nsns.boxplot(y=df[\\\"num_fotos\\\"]);\";\n",
       "                var nbb_formatted_code = \"# Boxplot\\nsns.boxplot(y=df[\\\"num_fotos\\\"])\";\n",
       "                var nbb_cells = Jupyter.notebook.get_cells();\n",
       "                for (var i = 0; i < nbb_cells.length; ++i) {\n",
       "                    if (nbb_cells[i].input_prompt_number == nbb_cell_id) {\n",
       "                        if (nbb_cells[i].get_text() == nbb_unformatted_code) {\n",
       "                             nbb_cells[i].set_text(nbb_formatted_code);\n",
       "                        }\n",
       "                        break;\n",
       "                    }\n",
       "                }\n",
       "            }, 500);\n",
       "            "
      ],
      "text/plain": [
       "<IPython.core.display.Javascript object>"
      ]
     },
     "metadata": {},
     "output_type": "display_data"
    }
   ],
   "source": [
    "# Boxplot\n",
    "sns.boxplot(y=df[\"num_fotos\"])"
   ]
  },
  {
   "cell_type": "code",
   "execution_count": 35,
   "id": "09da6235",
   "metadata": {},
   "outputs": [
    {
     "data": {
      "image/png": "[encoded data removed]",
      "text/plain": [
       "<Figure size 640x480 with 1 Axes>"
      ]
     },
     "metadata": {},
     "output_type": "display_data"
    },
    {
     "data": {
      "application/javascript": [
       "\n",
       "            setTimeout(function() {\n",
       "                var nbb_cell_id = 35;\n",
       "                var nbb_unformatted_code = \"# Histograma\\nsns.histplot(df[\\\"num_fotos\\\"], bins=10);\";\n",
       "                var nbb_formatted_code = \"# Histograma\\nsns.histplot(df[\\\"num_fotos\\\"], bins=10)\";\n",
       "                var nbb_cells = Jupyter.notebook.get_cells();\n",
       "                for (var i = 0; i < nbb_cells.length; ++i) {\n",
       "                    if (nbb_cells[i].input_prompt_number == nbb_cell_id) {\n",
       "                        if (nbb_cells[i].get_text() == nbb_unformatted_code) {\n",
       "                             nbb_cells[i].set_text(nbb_formatted_code);\n",
       "                        }\n",
       "                        break;\n",
       "                    }\n",
       "                }\n",
       "            }, 500);\n",
       "            "
      ],
      "text/plain": [
       "<IPython.core.display.Javascript object>"
      ]
     },
     "metadata": {},
     "output_type": "display_data"
    }
   ],
   "source": [
    "# Histograma\n",
    "sns.histplot(df[\"num_fotos\"], bins=10)"
   ]
  },
  {
   "cell_type": "markdown",
   "id": "4aa03ad4",
   "metadata": {},
   "source": [
    "Como já analisamos na etapa de pré-processamento esta variável tem um amplo domínio de um registro específico, o número 8. Sendo assim, ele é tanto a moda como a mediana (pois esse valor aparece mais de 50% das vezes). \n",
    "\n",
    "Isto fica nítido quando analisamos o Boxplot onde o ponto do primeiro quartil e da mediana (segundo quartil) se sobrepõe, nos informando que a primeira metade dos nossos dados são compostos por um único valor, já a segunda metade possui valores mais dispersos. No Boxplot também podemos concluir que não existe outliers para esta variável. \n",
    "\n",
    "No Histograma fica bem nítido o peso do valor 8 na variável, e a conclusão de que temos uma distribuição que se aproxima de uma distribuição exponencial. Ele também ajuda a explicar pq a média é mais elevada do que a mediana, pois a média é impactada pelos demais valores acima de 8, enquanto a mediana não."
   ]
  },
  {
   "cell_type": "markdown",
   "id": "873c298c",
   "metadata": {},
   "source": [
    "### Análise da Variável ano_de_fabricacao"
   ]
  },
  {
   "cell_type": "code",
   "execution_count": 15,
   "id": "0b7d91bf",
   "metadata": {},
   "outputs": [
    {
     "name": "stdout",
     "output_type": "stream",
     "text": [
      " As estatísticas referentes a medidas de tendência central para a variável num_fotos são:\n",
      " Media: 2016.76\n",
      " Mediana: 2018.0\n",
      " Moda: 2020\n",
      "\n",
      " As estatísticas referentes a medidas de dispersão para a variável num_fotos são:\n",
      " Desvio Padrão: 4.06\n",
      " Variância: 16.5\n",
      " Amplitude: 37\n"
     ]
    },
    {
     "data": {
      "application/javascript": [
       "\n",
       "            setTimeout(function() {\n",
       "                var nbb_cell_id = 15;\n",
       "                var nbb_unformatted_code = \"# Calculando as medidas de tend\\u00eancia central\\n\\n# M\\u00e9dia\\nmean_ano_fabric = round(df[\\\"ano_de_fabricacao\\\"].mean(), 2)\\n\\n# Mediana\\nmedian_ano_fabric = df[\\\"ano_de_fabricacao\\\"].median()\\n\\n# Moda\\nmoda_ano_fabric = statistics.mode(df[\\\"ano_de_fabricacao\\\"])\\n\\n# Calculando as medias de dispers\\u00e3o\\n\\n# Desvio Padr\\u00e3o\\nstd_ano_fabric = np.std(df[\\\"ano_de_fabricacao\\\"])\\nstd_ano_fabric = np.around(std_ano_fabric, 2)\\n\\n# Vari\\u00e2ncia\\nvar_ano_fabric = np.var(df[\\\"ano_de_fabricacao\\\"])\\nvar_ano_fabric = np.around(var_ano_fabric, 2)\\n\\n# Amplitude\\namp_ano_fabric = df[\\\"ano_de_fabricacao\\\"].max() - df[\\\"ano_de_fabricacao\\\"].min()\\n\\nprint(\\n    f\\\" As estat\\u00edsticas referentes a medidas de tend\\u00eancia central para a vari\\u00e1vel num_fotos s\\u00e3o:\\\\n Media: {mean_ano_fabric}\\\\n Mediana: {median_ano_fabric}\\\\n Moda: {moda_ano_fabric}\\\\n\\\\n As estat\\u00edsticas referentes a medidas de dispers\\u00e3o para a vari\\u00e1vel num_fotos s\\u00e3o:\\\\n Desvio Padr\\u00e3o: {std_ano_fabric}\\\\n Vari\\u00e2ncia: {var_ano_fabric}\\\\n Amplitude: {amp_ano_fabric}\\\"\\n)\";\n",
       "                var nbb_formatted_code = \"# Calculando as medidas de tend\\u00eancia central\\n\\n# M\\u00e9dia\\nmean_ano_fabric = round(df[\\\"ano_de_fabricacao\\\"].mean(), 2)\\n\\n# Mediana\\nmedian_ano_fabric = df[\\\"ano_de_fabricacao\\\"].median()\\n\\n# Moda\\nmoda_ano_fabric = statistics.mode(df[\\\"ano_de_fabricacao\\\"])\\n\\n# Calculando as medias de dispers\\u00e3o\\n\\n# Desvio Padr\\u00e3o\\nstd_ano_fabric = np.std(df[\\\"ano_de_fabricacao\\\"])\\nstd_ano_fabric = np.around(std_ano_fabric, 2)\\n\\n# Vari\\u00e2ncia\\nvar_ano_fabric = np.var(df[\\\"ano_de_fabricacao\\\"])\\nvar_ano_fabric = np.around(var_ano_fabric, 2)\\n\\n# Amplitude\\namp_ano_fabric = df[\\\"ano_de_fabricacao\\\"].max() - df[\\\"ano_de_fabricacao\\\"].min()\\n\\nprint(\\n    f\\\" As estat\\u00edsticas referentes a medidas de tend\\u00eancia central para a vari\\u00e1vel num_fotos s\\u00e3o:\\\\n Media: {mean_ano_fabric}\\\\n Mediana: {median_ano_fabric}\\\\n Moda: {moda_ano_fabric}\\\\n\\\\n As estat\\u00edsticas referentes a medidas de dispers\\u00e3o para a vari\\u00e1vel num_fotos s\\u00e3o:\\\\n Desvio Padr\\u00e3o: {std_ano_fabric}\\\\n Vari\\u00e2ncia: {var_ano_fabric}\\\\n Amplitude: {amp_ano_fabric}\\\"\\n)\";\n",
       "                var nbb_cells = Jupyter.notebook.get_cells();\n",
       "                for (var i = 0; i < nbb_cells.length; ++i) {\n",
       "                    if (nbb_cells[i].input_prompt_number == nbb_cell_id) {\n",
       "                        if (nbb_cells[i].get_text() == nbb_unformatted_code) {\n",
       "                             nbb_cells[i].set_text(nbb_formatted_code);\n",
       "                        }\n",
       "                        break;\n",
       "                    }\n",
       "                }\n",
       "            }, 500);\n",
       "            "
      ],
      "text/plain": [
       "<IPython.core.display.Javascript object>"
      ]
     },
     "metadata": {},
     "output_type": "display_data"
    }
   ],
   "source": [
    "# Calculando as medidas de tendência central\n",
    "\n",
    "# Média\n",
    "mean_ano_fabric = round(df[\"ano_de_fabricacao\"].mean(), 2)\n",
    "\n",
    "# Mediana\n",
    "median_ano_fabric = df[\"ano_de_fabricacao\"].median()\n",
    "\n",
    "# Moda\n",
    "moda_ano_fabric = statistics.mode(df[\"ano_de_fabricacao\"])\n",
    "\n",
    "# Calculando as medias de dispersão\n",
    "\n",
    "# Desvio Padrão\n",
    "std_ano_fabric = np.std(df[\"ano_de_fabricacao\"])\n",
    "std_ano_fabric = np.around(std_ano_fabric, 2)\n",
    "\n",
    "# Variância\n",
    "var_ano_fabric = np.var(df[\"ano_de_fabricacao\"])\n",
    "var_ano_fabric = np.around(var_ano_fabric, 2)\n",
    "\n",
    "# Amplitude\n",
    "amp_ano_fabric = df[\"ano_de_fabricacao\"].max() - df[\"ano_de_fabricacao\"].min()\n",
    "\n",
    "print(\n",
    "    f\" As estatísticas referentes a medidas de tendência central para a variável num_fotos são:\\n Media: {mean_ano_fabric}\\n Mediana: {median_ano_fabric}\\n Moda: {moda_ano_fabric}\\n\\n As estatísticas referentes a medidas de dispersão para a variável num_fotos são:\\n Desvio Padrão: {std_ano_fabric}\\n Variância: {var_ano_fabric}\\n Amplitude: {amp_ano_fabric}\"\n",
    ")"
   ]
  },
  {
   "cell_type": "code",
   "execution_count": 36,
   "id": "589e0bba",
   "metadata": {},
   "outputs": [
    {
     "data": {
      "image/png": "[encoded data removed]",
      "text/plain": [
       "<Figure size 640x480 with 1 Axes>"
      ]
     },
     "metadata": {},
     "output_type": "display_data"
    },
    {
     "data": {
      "application/javascript": [
       "\n",
       "            setTimeout(function() {\n",
       "                var nbb_cell_id = 36;\n",
       "                var nbb_unformatted_code = \"# Boxplot\\nsns.boxplot(y=df[\\\"ano_de_fabricacao\\\"]);\";\n",
       "                var nbb_formatted_code = \"# Boxplot\\nsns.boxplot(y=df[\\\"ano_de_fabricacao\\\"])\";\n",
       "                var nbb_cells = Jupyter.notebook.get_cells();\n",
       "                for (var i = 0; i < nbb_cells.length; ++i) {\n",
       "                    if (nbb_cells[i].input_prompt_number == nbb_cell_id) {\n",
       "                        if (nbb_cells[i].get_text() == nbb_unformatted_code) {\n",
       "                             nbb_cells[i].set_text(nbb_formatted_code);\n",
       "                        }\n",
       "                        break;\n",
       "                    }\n",
       "                }\n",
       "            }, 500);\n",
       "            "
      ],
      "text/plain": [
       "<IPython.core.display.Javascript object>"
      ]
     },
     "metadata": {},
     "output_type": "display_data"
    }
   ],
   "source": [
    "# Boxplot\n",
    "sns.boxplot(y=df[\"ano_de_fabricacao\"])"
   ]
  },
  {
   "cell_type": "code",
   "execution_count": 37,
   "id": "4790d820",
   "metadata": {},
   "outputs": [
    {
     "data": {
      "image/png": "[encoded data removed]",
      "text/plain": [
       "<Figure size 640x480 with 1 Axes>"
      ]
     },
     "metadata": {},
     "output_type": "display_data"
    },
    {
     "data": {
      "application/javascript": [
       "\n",
       "            setTimeout(function() {\n",
       "                var nbb_cell_id = 37;\n",
       "                var nbb_unformatted_code = \"# Histograma\\nsns.histplot(df[\\\"ano_de_fabricacao\\\"], bins=10);\";\n",
       "                var nbb_formatted_code = \"# Histograma\\nsns.histplot(df[\\\"ano_de_fabricacao\\\"], bins=10)\";\n",
       "                var nbb_cells = Jupyter.notebook.get_cells();\n",
       "                for (var i = 0; i < nbb_cells.length; ++i) {\n",
       "                    if (nbb_cells[i].input_prompt_number == nbb_cell_id) {\n",
       "                        if (nbb_cells[i].get_text() == nbb_unformatted_code) {\n",
       "                             nbb_cells[i].set_text(nbb_formatted_code);\n",
       "                        }\n",
       "                        break;\n",
       "                    }\n",
       "                }\n",
       "            }, 500);\n",
       "            "
      ],
      "text/plain": [
       "<IPython.core.display.Javascript object>"
      ]
     },
     "metadata": {},
     "output_type": "display_data"
    }
   ],
   "source": [
    "# Histograma\n",
    "sns.histplot(df[\"ano_de_fabricacao\"], bins=10)"
   ]
  },
  {
   "cell_type": "markdown",
   "id": "d915877d",
   "metadata": {},
   "source": [
    "Para a variável ano_de_fabricacao o Boxplot nos mostra a madiana muito próxima do 3º quartil, o que significa que a primeira metade dos dados da variável estão bem dispersos, e a segunda metade mais concentrados em poucos valores. Nesta variável ocorre a presença de valores outliers, o que provavelmente explique o valor da média abaixo do valor da mediana, pois estes valores pressionam a média para baixo. \n",
    "\n",
    "O Histograma nos confirma que os dados abaixo da mediana são mais dispersos, enquanto os dados acima dela são mais concentrados, podemos ver que a maioria dos dados se concentra esses os valores de 2015 a 2020. Sua distruição se aproxima de uma distribuição assimétrica negativa."
   ]
  },
  {
   "cell_type": "markdown",
   "id": "f1082514",
   "metadata": {},
   "source": [
    "### Análise da Variável ano_modelo"
   ]
  },
  {
   "cell_type": "code",
   "execution_count": 18,
   "id": "78b793c4",
   "metadata": {},
   "outputs": [
    {
     "name": "stdout",
     "output_type": "stream",
     "text": [
      " As estatísticas referentes a medidas de tendência central para a variável num_fotos são:\n",
      " Media: 2017.81\n",
      " Mediana: 2018.0\n",
      " Moda: 2021.0\n",
      "\n",
      " As estatísticas referentes a medidas de dispersão para a variável num_fotos são:\n",
      " Desvio Padrão: 2.67\n",
      " Variância: 7.15\n",
      " Amplitude: 26.0\n"
     ]
    },
    {
     "data": {
      "application/javascript": [
       "\n",
       "            setTimeout(function() {\n",
       "                var nbb_cell_id = 18;\n",
       "                var nbb_unformatted_code = \"# Calculando as medidas de tend\\u00eancia central\\n\\n# M\\u00e9dia\\nmean_ano_modelo = round(df[\\\"ano_modelo\\\"].mean(), 2)\\n\\n# Mediana\\nmedian_ano_modelo = df[\\\"ano_modelo\\\"].median()\\n\\n# Moda\\nmoda_ano_modelo = statistics.mode(df[\\\"ano_modelo\\\"])\\n\\n# Calculando as medias de dispers\\u00e3o\\n\\n# Desvio Padr\\u00e3o\\nstd_ano_modelo = np.std(df[\\\"ano_modelo\\\"])\\nstd_ano_modelo = np.around(std_ano_modelo, 2)\\n\\n# Vari\\u00e2ncia\\nvar_ano_modelo = np.var(df[\\\"ano_modelo\\\"])\\nvar_ano_modelo = np.around(var_ano_modelo, 2)\\n\\n# Amplitude\\namp_ano_modelo = df[\\\"ano_modelo\\\"].max() - df[\\\"ano_modelo\\\"].min()\\n\\nprint(\\n    f\\\" As estat\\u00edsticas referentes a medidas de tend\\u00eancia central para a vari\\u00e1vel num_fotos s\\u00e3o:\\\\n Media: {mean_ano_modelo}\\\\n Mediana: {median_ano_modelo}\\\\n Moda: {moda_ano_modelo}\\\\n\\\\n As estat\\u00edsticas referentes a medidas de dispers\\u00e3o para a vari\\u00e1vel num_fotos s\\u00e3o:\\\\n Desvio Padr\\u00e3o: {std_ano_modelo}\\\\n Vari\\u00e2ncia: {var_ano_modelo}\\\\n Amplitude: {amp_ano_modelo}\\\"\\n)\";\n",
       "                var nbb_formatted_code = \"# Calculando as medidas de tend\\u00eancia central\\n\\n# M\\u00e9dia\\nmean_ano_modelo = round(df[\\\"ano_modelo\\\"].mean(), 2)\\n\\n# Mediana\\nmedian_ano_modelo = df[\\\"ano_modelo\\\"].median()\\n\\n# Moda\\nmoda_ano_modelo = statistics.mode(df[\\\"ano_modelo\\\"])\\n\\n# Calculando as medias de dispers\\u00e3o\\n\\n# Desvio Padr\\u00e3o\\nstd_ano_modelo = np.std(df[\\\"ano_modelo\\\"])\\nstd_ano_modelo = np.around(std_ano_modelo, 2)\\n\\n# Vari\\u00e2ncia\\nvar_ano_modelo = np.var(df[\\\"ano_modelo\\\"])\\nvar_ano_modelo = np.around(var_ano_modelo, 2)\\n\\n# Amplitude\\namp_ano_modelo = df[\\\"ano_modelo\\\"].max() - df[\\\"ano_modelo\\\"].min()\\n\\nprint(\\n    f\\\" As estat\\u00edsticas referentes a medidas de tend\\u00eancia central para a vari\\u00e1vel num_fotos s\\u00e3o:\\\\n Media: {mean_ano_modelo}\\\\n Mediana: {median_ano_modelo}\\\\n Moda: {moda_ano_modelo}\\\\n\\\\n As estat\\u00edsticas referentes a medidas de dispers\\u00e3o para a vari\\u00e1vel num_fotos s\\u00e3o:\\\\n Desvio Padr\\u00e3o: {std_ano_modelo}\\\\n Vari\\u00e2ncia: {var_ano_modelo}\\\\n Amplitude: {amp_ano_modelo}\\\"\\n)\";\n",
       "                var nbb_cells = Jupyter.notebook.get_cells();\n",
       "                for (var i = 0; i < nbb_cells.length; ++i) {\n",
       "                    if (nbb_cells[i].input_prompt_number == nbb_cell_id) {\n",
       "                        if (nbb_cells[i].get_text() == nbb_unformatted_code) {\n",
       "                             nbb_cells[i].set_text(nbb_formatted_code);\n",
       "                        }\n",
       "                        break;\n",
       "                    }\n",
       "                }\n",
       "            }, 500);\n",
       "            "
      ],
      "text/plain": [
       "<IPython.core.display.Javascript object>"
      ]
     },
     "metadata": {},
     "output_type": "display_data"
    }
   ],
   "source": [
    "# Calculando as medidas de tendência central\n",
    "\n",
    "# Média\n",
    "mean_ano_modelo = round(df[\"ano_modelo\"].mean(), 2)\n",
    "\n",
    "# Mediana\n",
    "median_ano_modelo = df[\"ano_modelo\"].median()\n",
    "\n",
    "# Moda\n",
    "moda_ano_modelo = statistics.mode(df[\"ano_modelo\"])\n",
    "\n",
    "# Calculando as medias de dispersão\n",
    "\n",
    "# Desvio Padrão\n",
    "std_ano_modelo = np.std(df[\"ano_modelo\"])\n",
    "std_ano_modelo = np.around(std_ano_modelo, 2)\n",
    "\n",
    "# Variância\n",
    "var_ano_modelo = np.var(df[\"ano_modelo\"])\n",
    "var_ano_modelo = np.around(var_ano_modelo, 2)\n",
    "\n",
    "# Amplitude\n",
    "amp_ano_modelo = df[\"ano_modelo\"].max() - df[\"ano_modelo\"].min()\n",
    "\n",
    "print(\n",
    "    f\" As estatísticas referentes a medidas de tendência central para a variável num_fotos são:\\n Media: {mean_ano_modelo}\\n Mediana: {median_ano_modelo}\\n Moda: {moda_ano_modelo}\\n\\n As estatísticas referentes a medidas de dispersão para a variável num_fotos são:\\n Desvio Padrão: {std_ano_modelo}\\n Variância: {var_ano_modelo}\\n Amplitude: {amp_ano_modelo}\"\n",
    ")"
   ]
  },
  {
   "cell_type": "code",
   "execution_count": 38,
   "id": "c41244d4",
   "metadata": {},
   "outputs": [
    {
     "data": {
      "image/png": "[encoded data removed]",
      "text/plain": [
       "<Figure size 640x480 with 1 Axes>"
      ]
     },
     "metadata": {},
     "output_type": "display_data"
    },
    {
     "data": {
      "application/javascript": [
       "\n",
       "            setTimeout(function() {\n",
       "                var nbb_cell_id = 38;\n",
       "                var nbb_unformatted_code = \"# Boxplot\\nsns.boxplot(y=df[\\\"ano_modelo\\\"]);\";\n",
       "                var nbb_formatted_code = \"# Boxplot\\nsns.boxplot(y=df[\\\"ano_modelo\\\"])\";\n",
       "                var nbb_cells = Jupyter.notebook.get_cells();\n",
       "                for (var i = 0; i < nbb_cells.length; ++i) {\n",
       "                    if (nbb_cells[i].input_prompt_number == nbb_cell_id) {\n",
       "                        if (nbb_cells[i].get_text() == nbb_unformatted_code) {\n",
       "                             nbb_cells[i].set_text(nbb_formatted_code);\n",
       "                        }\n",
       "                        break;\n",
       "                    }\n",
       "                }\n",
       "            }, 500);\n",
       "            "
      ],
      "text/plain": [
       "<IPython.core.display.Javascript object>"
      ]
     },
     "metadata": {},
     "output_type": "display_data"
    }
   ],
   "source": [
    "# Boxplot\n",
    "sns.boxplot(y=df[\"ano_modelo\"])"
   ]
  },
  {
   "cell_type": "code",
   "execution_count": 39,
   "id": "714c6240",
   "metadata": {},
   "outputs": [
    {
     "data": {
      "image/png": "[encoded data removed]",
      "text/plain": [
       "<Figure size 640x480 with 1 Axes>"
      ]
     },
     "metadata": {},
     "output_type": "display_data"
    },
    {
     "data": {
      "application/javascript": [
       "\n",
       "            setTimeout(function() {\n",
       "                var nbb_cell_id = 39;\n",
       "                var nbb_unformatted_code = \"# Histograma\\nsns.histplot(df[\\\"ano_modelo\\\"], bins=10);\";\n",
       "                var nbb_formatted_code = \"# Histograma\\nsns.histplot(df[\\\"ano_modelo\\\"], bins=10)\";\n",
       "                var nbb_cells = Jupyter.notebook.get_cells();\n",
       "                for (var i = 0; i < nbb_cells.length; ++i) {\n",
       "                    if (nbb_cells[i].input_prompt_number == nbb_cell_id) {\n",
       "                        if (nbb_cells[i].get_text() == nbb_unformatted_code) {\n",
       "                             nbb_cells[i].set_text(nbb_formatted_code);\n",
       "                        }\n",
       "                        break;\n",
       "                    }\n",
       "                }\n",
       "            }, 500);\n",
       "            "
      ],
      "text/plain": [
       "<IPython.core.display.Javascript object>"
      ]
     },
     "metadata": {},
     "output_type": "display_data"
    }
   ],
   "source": [
    "# Histograma\n",
    "sns.histplot(df[\"ano_modelo\"], bins=10)"
   ]
  },
  {
   "cell_type": "markdown",
   "id": "d0133a67",
   "metadata": {},
   "source": [
    "Na variável ano_modelo podemos perceber os valores da média e mediana muito próximos, o que pode ser um indicativo que temos uma distribuição que se aproxima de uma distribuição normal.\n",
    "\n",
    "O Boxplot confirma uma distribuição que se aproxima de uma distribuição normal, onde temos a mediana centralizada dentro da caixa azul. Ele também nos mostra a existência de alguns valores outliers, o que deve explicar uma média mais baixa que a mediana. \n",
    "\n",
    "No Histograma podemos uma concentração maior nos valores entre 2018 e 2020.\n",
    "\n",
    "\n"
   ]
  },
  {
   "cell_type": "markdown",
   "id": "8e78117f",
   "metadata": {},
   "source": [
    "### Análise da Variável hodometro"
   ]
  },
  {
   "cell_type": "code",
   "execution_count": 21,
   "id": "8a3eb141",
   "metadata": {},
   "outputs": [
    {
     "name": "stdout",
     "output_type": "stream",
     "text": [
      " As estatísticas referentes a medidas de tendência central para a variável num_fotos são:\n",
      " Media: 58430.59\n",
      " Mediana: 57434.0\n",
      " Moda: 100.0\n",
      "\n",
      " As estatísticas referentes a medidas de dispersão para a variável num_fotos são:\n",
      " Desvio Padrão: 32561.22\n",
      " Variância: 1060232981.27\n",
      " Amplitude: 389965.0\n"
     ]
    },
    {
     "data": {
      "application/javascript": [
       "\n",
       "            setTimeout(function() {\n",
       "                var nbb_cell_id = 21;\n",
       "                var nbb_unformatted_code = \"# Calculando as medidas de tend\\u00eancia central\\n\\n# M\\u00e9dia\\nmean_hodometro = round(df[\\\"hodometro\\\"].mean(), 2)\\n\\n# Mediana\\nmedian_hodometro = df[\\\"hodometro\\\"].median()\\n\\n# Moda\\nmoda_hodometro = statistics.mode(df[\\\"hodometro\\\"])\\n\\n# Calculando as medias de dispers\\u00e3o\\n\\n# Desvio Padr\\u00e3o\\nstd_hodometro = np.std(df[\\\"hodometro\\\"])\\nstd_hodometro = np.around(std_hodometro, 2)\\n\\n# Vari\\u00e2ncia\\nvar_hodometro = np.var(df[\\\"hodometro\\\"])\\nvar_hodometro = np.around(var_hodometro, 2)\\n\\n# Amplitude\\namp_hodometro = df[\\\"hodometro\\\"].max() - df[\\\"hodometro\\\"].min()\\n\\nprint(\\n    f\\\" As estat\\u00edsticas referentes a medidas de tend\\u00eancia central para a vari\\u00e1vel num_fotos s\\u00e3o:\\\\n Media: {mean_hodometro}\\\\n Mediana: {median_hodometro}\\\\n Moda: {moda_hodometro}\\\\n\\\\n As estat\\u00edsticas referentes a medidas de dispers\\u00e3o para a vari\\u00e1vel num_fotos s\\u00e3o:\\\\n Desvio Padr\\u00e3o: {std_hodometro}\\\\n Vari\\u00e2ncia: {var_hodometro}\\\\n Amplitude: {amp_hodometro}\\\"\\n)\";\n",
       "                var nbb_formatted_code = \"# Calculando as medidas de tend\\u00eancia central\\n\\n# M\\u00e9dia\\nmean_hodometro = round(df[\\\"hodometro\\\"].mean(), 2)\\n\\n# Mediana\\nmedian_hodometro = df[\\\"hodometro\\\"].median()\\n\\n# Moda\\nmoda_hodometro = statistics.mode(df[\\\"hodometro\\\"])\\n\\n# Calculando as medias de dispers\\u00e3o\\n\\n# Desvio Padr\\u00e3o\\nstd_hodometro = np.std(df[\\\"hodometro\\\"])\\nstd_hodometro = np.around(std_hodometro, 2)\\n\\n# Vari\\u00e2ncia\\nvar_hodometro = np.var(df[\\\"hodometro\\\"])\\nvar_hodometro = np.around(var_hodometro, 2)\\n\\n# Amplitude\\namp_hodometro = df[\\\"hodometro\\\"].max() - df[\\\"hodometro\\\"].min()\\n\\nprint(\\n    f\\\" As estat\\u00edsticas referentes a medidas de tend\\u00eancia central para a vari\\u00e1vel num_fotos s\\u00e3o:\\\\n Media: {mean_hodometro}\\\\n Mediana: {median_hodometro}\\\\n Moda: {moda_hodometro}\\\\n\\\\n As estat\\u00edsticas referentes a medidas de dispers\\u00e3o para a vari\\u00e1vel num_fotos s\\u00e3o:\\\\n Desvio Padr\\u00e3o: {std_hodometro}\\\\n Vari\\u00e2ncia: {var_hodometro}\\\\n Amplitude: {amp_hodometro}\\\"\\n)\";\n",
       "                var nbb_cells = Jupyter.notebook.get_cells();\n",
       "                for (var i = 0; i < nbb_cells.length; ++i) {\n",
       "                    if (nbb_cells[i].input_prompt_number == nbb_cell_id) {\n",
       "                        if (nbb_cells[i].get_text() == nbb_unformatted_code) {\n",
       "                             nbb_cells[i].set_text(nbb_formatted_code);\n",
       "                        }\n",
       "                        break;\n",
       "                    }\n",
       "                }\n",
       "            }, 500);\n",
       "            "
      ],
      "text/plain": [
       "<IPython.core.display.Javascript object>"
      ]
     },
     "metadata": {},
     "output_type": "display_data"
    }
   ],
   "source": [
    "# Calculando as medidas de tendência central\n",
    "\n",
    "# Média\n",
    "mean_hodometro = round(df[\"hodometro\"].mean(), 2)\n",
    "\n",
    "# Mediana\n",
    "median_hodometro = df[\"hodometro\"].median()\n",
    "\n",
    "# Moda\n",
    "moda_hodometro = statistics.mode(df[\"hodometro\"])\n",
    "\n",
    "# Calculando as medias de dispersão\n",
    "\n",
    "# Desvio Padrão\n",
    "std_hodometro = np.std(df[\"hodometro\"])\n",
    "std_hodometro = np.around(std_hodometro, 2)\n",
    "\n",
    "# Variância\n",
    "var_hodometro = np.var(df[\"hodometro\"])\n",
    "var_hodometro = np.around(var_hodometro, 2)\n",
    "\n",
    "# Amplitude\n",
    "amp_hodometro = df[\"hodometro\"].max() - df[\"hodometro\"].min()\n",
    "\n",
    "print(\n",
    "    f\" As estatísticas referentes a medidas de tendência central para a variável num_fotos são:\\n Media: {mean_hodometro}\\n Mediana: {median_hodometro}\\n Moda: {moda_hodometro}\\n\\n As estatísticas referentes a medidas de dispersão para a variável num_fotos são:\\n Desvio Padrão: {std_hodometro}\\n Variância: {var_hodometro}\\n Amplitude: {amp_hodometro}\"\n",
    ")"
   ]
  },
  {
   "cell_type": "code",
   "execution_count": 40,
   "id": "20e0814b",
   "metadata": {},
   "outputs": [
    {
     "data": {
      "image/png": "[encoded data removed]",
      "text/plain": [
       "<Figure size 640x480 with 1 Axes>"
      ]
     },
     "metadata": {},
     "output_type": "display_data"
    },
    {
     "data": {
      "application/javascript": [
       "\n",
       "            setTimeout(function() {\n",
       "                var nbb_cell_id = 40;\n",
       "                var nbb_unformatted_code = \"# Boxplot\\nsns.boxplot(y=df[\\\"hodometro\\\"]);\";\n",
       "                var nbb_formatted_code = \"# Boxplot\\nsns.boxplot(y=df[\\\"hodometro\\\"])\";\n",
       "                var nbb_cells = Jupyter.notebook.get_cells();\n",
       "                for (var i = 0; i < nbb_cells.length; ++i) {\n",
       "                    if (nbb_cells[i].input_prompt_number == nbb_cell_id) {\n",
       "                        if (nbb_cells[i].get_text() == nbb_unformatted_code) {\n",
       "                             nbb_cells[i].set_text(nbb_formatted_code);\n",
       "                        }\n",
       "                        break;\n",
       "                    }\n",
       "                }\n",
       "            }, 500);\n",
       "            "
      ],
      "text/plain": [
       "<IPython.core.display.Javascript object>"
      ]
     },
     "metadata": {},
     "output_type": "display_data"
    }
   ],
   "source": [
    "# Boxplot\n",
    "sns.boxplot(y=df[\"hodometro\"])"
   ]
  },
  {
   "cell_type": "code",
   "execution_count": 41,
   "id": "e8573c5a",
   "metadata": {},
   "outputs": [
    {
     "data": {
      "image/png": "[encoded data removed]",
      "text/plain": [
       "<Figure size 640x480 with 1 Axes>"
      ]
     },
     "metadata": {},
     "output_type": "display_data"
    },
    {
     "data": {
      "application/javascript": [
       "\n",
       "            setTimeout(function() {\n",
       "                var nbb_cell_id = 41;\n",
       "                var nbb_unformatted_code = \"# Histograma\\nsns.histplot(df[\\\"hodometro\\\"]);\";\n",
       "                var nbb_formatted_code = \"# Histograma\\nsns.histplot(df[\\\"hodometro\\\"])\";\n",
       "                var nbb_cells = Jupyter.notebook.get_cells();\n",
       "                for (var i = 0; i < nbb_cells.length; ++i) {\n",
       "                    if (nbb_cells[i].input_prompt_number == nbb_cell_id) {\n",
       "                        if (nbb_cells[i].get_text() == nbb_unformatted_code) {\n",
       "                             nbb_cells[i].set_text(nbb_formatted_code);\n",
       "                        }\n",
       "                        break;\n",
       "                    }\n",
       "                }\n",
       "            }, 500);\n",
       "            "
      ],
      "text/plain": [
       "<IPython.core.display.Javascript object>"
      ]
     },
     "metadata": {},
     "output_type": "display_data"
    }
   ],
   "source": [
    "# Histograma\n",
    "sns.histplot(df[\"hodometro\"])"
   ]
  },
  {
   "cell_type": "markdown",
   "id": "9e87a1e5",
   "metadata": {},
   "source": [
    "A proximidade entre os valores da média e da mediana, assim como a posição da mediana no Boxplot nos mostra que temos uma distribuição que se aproxima de uma distribuição normal. O Boxplot também mostra a existência de valores outliers tornando nossos dados mais dispesrsos e explicando uma média um pouco mais elevada que a mediana. \n",
    "\n",
    "O Histograma mostra dois picos de concentração maior dos dados, por volta dos 30000 e 80000. Também é possível perceber uma cauda alongada até próximo ao valor 40000."
   ]
  },
  {
   "cell_type": "markdown",
   "id": "22c3eab5",
   "metadata": {},
   "source": [
    "### Análise da Variável num_portas"
   ]
  },
  {
   "cell_type": "code",
   "execution_count": 24,
   "id": "c34d9df6",
   "metadata": {},
   "outputs": [
    {
     "name": "stdout",
     "output_type": "stream",
     "text": [
      " As estatísticas referentes a medidas de tendência central para a variável num_fotos são:\n",
      " Media: 3.94\n",
      " Mediana: 4.0\n",
      " Moda: 4\n",
      "\n",
      " As estatísticas referentes a medidas de dispersão para a variável num_fotos são:\n",
      " Desvio Padrão: 0.34\n",
      " Variância: 0.11\n",
      " Amplitude: 2\n"
     ]
    },
    {
     "data": {
      "application/javascript": [
       "\n",
       "            setTimeout(function() {\n",
       "                var nbb_cell_id = 24;\n",
       "                var nbb_unformatted_code = \"# Calculando as medidas de tend\\u00eancia central\\n\\n# M\\u00e9dia\\nmean_portas = round(df[\\\"num_portas\\\"].mean(), 2)\\n\\n# Mediana\\nmedian_portas = df[\\\"num_portas\\\"].median()\\n\\n# Moda\\nmoda_portas = statistics.mode(df[\\\"num_portas\\\"])\\n\\n# Calculando as medias de dispers\\u00e3o\\n\\n# Desvio Padr\\u00e3o\\nstd_portas = np.std(df[\\\"num_portas\\\"])\\nstd_portas = np.around(std_portas, 2)\\n\\n# Vari\\u00e2ncia\\nvar_portas = np.var(df[\\\"num_portas\\\"])\\nvar_portas = np.around(var_portas, 2)\\n\\n# Amplitude\\namp_portas = df[\\\"num_portas\\\"].max() - df[\\\"num_portas\\\"].min()\\n\\nprint(\\n    f\\\" As estat\\u00edsticas referentes a medidas de tend\\u00eancia central para a vari\\u00e1vel num_fotos s\\u00e3o:\\\\n Media: {mean_portas}\\\\n Mediana: {median_portas}\\\\n Moda: {moda_portas}\\\\n\\\\n As estat\\u00edsticas referentes a medidas de dispers\\u00e3o para a vari\\u00e1vel num_fotos s\\u00e3o:\\\\n Desvio Padr\\u00e3o: {std_portas}\\\\n Vari\\u00e2ncia: {var_portas}\\\\n Amplitude: {amp_portas}\\\"\\n)\";\n",
       "                var nbb_formatted_code = \"# Calculando as medidas de tend\\u00eancia central\\n\\n# M\\u00e9dia\\nmean_portas = round(df[\\\"num_portas\\\"].mean(), 2)\\n\\n# Mediana\\nmedian_portas = df[\\\"num_portas\\\"].median()\\n\\n# Moda\\nmoda_portas = statistics.mode(df[\\\"num_portas\\\"])\\n\\n# Calculando as medias de dispers\\u00e3o\\n\\n# Desvio Padr\\u00e3o\\nstd_portas = np.std(df[\\\"num_portas\\\"])\\nstd_portas = np.around(std_portas, 2)\\n\\n# Vari\\u00e2ncia\\nvar_portas = np.var(df[\\\"num_portas\\\"])\\nvar_portas = np.around(var_portas, 2)\\n\\n# Amplitude\\namp_portas = df[\\\"num_portas\\\"].max() - df[\\\"num_portas\\\"].min()\\n\\nprint(\\n    f\\\" As estat\\u00edsticas referentes a medidas de tend\\u00eancia central para a vari\\u00e1vel num_fotos s\\u00e3o:\\\\n Media: {mean_portas}\\\\n Mediana: {median_portas}\\\\n Moda: {moda_portas}\\\\n\\\\n As estat\\u00edsticas referentes a medidas de dispers\\u00e3o para a vari\\u00e1vel num_fotos s\\u00e3o:\\\\n Desvio Padr\\u00e3o: {std_portas}\\\\n Vari\\u00e2ncia: {var_portas}\\\\n Amplitude: {amp_portas}\\\"\\n)\";\n",
       "                var nbb_cells = Jupyter.notebook.get_cells();\n",
       "                for (var i = 0; i < nbb_cells.length; ++i) {\n",
       "                    if (nbb_cells[i].input_prompt_number == nbb_cell_id) {\n",
       "                        if (nbb_cells[i].get_text() == nbb_unformatted_code) {\n",
       "                             nbb_cells[i].set_text(nbb_formatted_code);\n",
       "                        }\n",
       "                        break;\n",
       "                    }\n",
       "                }\n",
       "            }, 500);\n",
       "            "
      ],
      "text/plain": [
       "<IPython.core.display.Javascript object>"
      ]
     },
     "metadata": {},
     "output_type": "display_data"
    }
   ],
   "source": [
    "# Calculando as medidas de tendência central\n",
    "\n",
    "# Média\n",
    "mean_portas = round(df[\"num_portas\"].mean(), 2)\n",
    "\n",
    "# Mediana\n",
    "median_portas = df[\"num_portas\"].median()\n",
    "\n",
    "# Moda\n",
    "moda_portas = statistics.mode(df[\"num_portas\"])\n",
    "\n",
    "# Calculando as medias de dispersão\n",
    "\n",
    "# Desvio Padrão\n",
    "std_portas = np.std(df[\"num_portas\"])\n",
    "std_portas = np.around(std_portas, 2)\n",
    "\n",
    "# Variância\n",
    "var_portas = np.var(df[\"num_portas\"])\n",
    "var_portas = np.around(var_portas, 2)\n",
    "\n",
    "# Amplitude\n",
    "amp_portas = df[\"num_portas\"].max() - df[\"num_portas\"].min()\n",
    "\n",
    "print(\n",
    "    f\" As estatísticas referentes a medidas de tendência central para a variável num_fotos são:\\n Media: {mean_portas}\\n Mediana: {median_portas}\\n Moda: {moda_portas}\\n\\n As estatísticas referentes a medidas de dispersão para a variável num_fotos são:\\n Desvio Padrão: {std_portas}\\n Variância: {var_portas}\\n Amplitude: {amp_portas}\"\n",
    ")"
   ]
  },
  {
   "cell_type": "code",
   "execution_count": 42,
   "id": "8a24fdf2",
   "metadata": {},
   "outputs": [
    {
     "data": {
      "image/png": "[encoded data removed]",
      "text/plain": [
       "<Figure size 640x480 with 1 Axes>"
      ]
     },
     "metadata": {},
     "output_type": "display_data"
    },
    {
     "data": {
      "application/javascript": [
       "\n",
       "            setTimeout(function() {\n",
       "                var nbb_cell_id = 42;\n",
       "                var nbb_unformatted_code = \"# Boxplot\\nsns.boxplot(y=df[\\\"num_portas\\\"]);\";\n",
       "                var nbb_formatted_code = \"# Boxplot\\nsns.boxplot(y=df[\\\"num_portas\\\"])\";\n",
       "                var nbb_cells = Jupyter.notebook.get_cells();\n",
       "                for (var i = 0; i < nbb_cells.length; ++i) {\n",
       "                    if (nbb_cells[i].input_prompt_number == nbb_cell_id) {\n",
       "                        if (nbb_cells[i].get_text() == nbb_unformatted_code) {\n",
       "                             nbb_cells[i].set_text(nbb_formatted_code);\n",
       "                        }\n",
       "                        break;\n",
       "                    }\n",
       "                }\n",
       "            }, 500);\n",
       "            "
      ],
      "text/plain": [
       "<IPython.core.display.Javascript object>"
      ]
     },
     "metadata": {},
     "output_type": "display_data"
    }
   ],
   "source": [
    "# Boxplot\n",
    "sns.boxplot(y=df[\"num_portas\"])"
   ]
  },
  {
   "cell_type": "code",
   "execution_count": 43,
   "id": "dc9c18d0",
   "metadata": {},
   "outputs": [
    {
     "data": {
      "image/png": "[encoded data removed]",
      "text/plain": [
       "<Figure size 640x480 with 1 Axes>"
      ]
     },
     "metadata": {},
     "output_type": "display_data"
    },
    {
     "data": {
      "application/javascript": [
       "\n",
       "            setTimeout(function() {\n",
       "                var nbb_cell_id = 43;\n",
       "                var nbb_unformatted_code = \"# Histograma\\nsns.histplot(df[\\\"num_portas\\\"]);\";\n",
       "                var nbb_formatted_code = \"# Histograma\\nsns.histplot(df[\\\"num_portas\\\"])\";\n",
       "                var nbb_cells = Jupyter.notebook.get_cells();\n",
       "                for (var i = 0; i < nbb_cells.length; ++i) {\n",
       "                    if (nbb_cells[i].input_prompt_number == nbb_cell_id) {\n",
       "                        if (nbb_cells[i].get_text() == nbb_unformatted_code) {\n",
       "                             nbb_cells[i].set_text(nbb_formatted_code);\n",
       "                        }\n",
       "                        break;\n",
       "                    }\n",
       "                }\n",
       "            }, 500);\n",
       "            "
      ],
      "text/plain": [
       "<IPython.core.display.Javascript object>"
      ]
     },
     "metadata": {},
     "output_type": "display_data"
    }
   ],
   "source": [
    "# Histograma\n",
    "sns.histplot(df[\"num_portas\"])"
   ]
  },
  {
   "cell_type": "markdown",
   "id": "10f6c3bc",
   "metadata": {},
   "source": [
    "A variável num_portas possui a característica peculiar de que 97% dos seus dados possuem o mesmo valor (4) e os demais possuem o valor 2. Isto faz com o que nosso boxplot seja apenas uma linha, pois todos os pontos do boxplot (limite inferior, 1º quartil, mediana, 3º quartil e limite superior) acabam sendo 4. Os demais valores, acabam se tornando outliers."
   ]
  },
  {
   "cell_type": "markdown",
   "id": "f6f31c15",
   "metadata": {},
   "source": [
    "## Tabela com o Resumo Estatístico dos Dados"
   ]
  },
  {
   "cell_type": "code",
   "execution_count": 27,
   "id": "3bf0bf00",
   "metadata": {},
   "outputs": [
    {
     "data": {
      "application/javascript": [
       "\n",
       "            setTimeout(function() {\n",
       "                var nbb_cell_id = 27;\n",
       "                var nbb_unformatted_code = \"estatisticas = pd.DataFrame(\\n    {\\n        \\\"variavel\\\": [\\n            \\\"num_fotos\\\",\\n            \\\"ano_de_fabricacao\\\",\\n            \\\"ano_modelo\\\",\\n            \\\"hodometro\\\",\\n            \\\"num_portas\\\",\\n        ],\\n        \\\"media\\\": [\\n            mean_num_fotos,\\n            mean_ano_fabric,\\n            mean_ano_modelo,\\n            mean_hodometro,\\n            mean_portas,\\n        ],\\n        \\\"mediana\\\": [\\n            median_num_fotos,\\n            median_ano_fabric,\\n            median_ano_modelo,\\n            median_hodometro,\\n            median_portas,\\n        ],\\n        \\\"desvio_padrao\\\": [\\n            std_num_fotos,\\n            std_ano_fabric,\\n            std_ano_modelo,\\n            std_hodometro,\\n            std_portas,\\n        ],\\n        \\\"variancia\\\": [\\n            var_num_fotos,\\n            var_ano_fabric,\\n            var_ano_modelo,\\n            var_hodometro,\\n            var_portas,\\n        ],\\n        \\\"ambplitude\\\": [\\n            amp_num_fotos,\\n            amp_ano_fabric,\\n            amp_ano_modelo,\\n            amp_hodometro,\\n            amp_portas,\\n        ],\\n    },\\n)\";\n",
       "                var nbb_formatted_code = \"estatisticas = pd.DataFrame(\\n    {\\n        \\\"variavel\\\": [\\n            \\\"num_fotos\\\",\\n            \\\"ano_de_fabricacao\\\",\\n            \\\"ano_modelo\\\",\\n            \\\"hodometro\\\",\\n            \\\"num_portas\\\",\\n        ],\\n        \\\"media\\\": [\\n            mean_num_fotos,\\n            mean_ano_fabric,\\n            mean_ano_modelo,\\n            mean_hodometro,\\n            mean_portas,\\n        ],\\n        \\\"mediana\\\": [\\n            median_num_fotos,\\n            median_ano_fabric,\\n            median_ano_modelo,\\n            median_hodometro,\\n            median_portas,\\n        ],\\n        \\\"desvio_padrao\\\": [\\n            std_num_fotos,\\n            std_ano_fabric,\\n            std_ano_modelo,\\n            std_hodometro,\\n            std_portas,\\n        ],\\n        \\\"variancia\\\": [\\n            var_num_fotos,\\n            var_ano_fabric,\\n            var_ano_modelo,\\n            var_hodometro,\\n            var_portas,\\n        ],\\n        \\\"ambplitude\\\": [\\n            amp_num_fotos,\\n            amp_ano_fabric,\\n            amp_ano_modelo,\\n            amp_hodometro,\\n            amp_portas,\\n        ],\\n    },\\n)\";\n",
       "                var nbb_cells = Jupyter.notebook.get_cells();\n",
       "                for (var i = 0; i < nbb_cells.length; ++i) {\n",
       "                    if (nbb_cells[i].input_prompt_number == nbb_cell_id) {\n",
       "                        if (nbb_cells[i].get_text() == nbb_unformatted_code) {\n",
       "                             nbb_cells[i].set_text(nbb_formatted_code);\n",
       "                        }\n",
       "                        break;\n",
       "                    }\n",
       "                }\n",
       "            }, 500);\n",
       "            "
      ],
      "text/plain": [
       "<IPython.core.display.Javascript object>"
      ]
     },
     "metadata": {},
     "output_type": "display_data"
    }
   ],
   "source": [
    "estatisticas = pd.DataFrame(\n",
    "    {\n",
    "        \"variavel\": [\n",
    "            \"num_fotos\",\n",
    "            \"ano_de_fabricacao\",\n",
    "            \"ano_modelo\",\n",
    "            \"hodometro\",\n",
    "            \"num_portas\",\n",
    "        ],\n",
    "        \"media\": [\n",
    "            mean_num_fotos,\n",
    "            mean_ano_fabric,\n",
    "            mean_ano_modelo,\n",
    "            mean_hodometro,\n",
    "            mean_portas,\n",
    "        ],\n",
    "        \"mediana\": [\n",
    "            median_num_fotos,\n",
    "            median_ano_fabric,\n",
    "            median_ano_modelo,\n",
    "            median_hodometro,\n",
    "            median_portas,\n",
    "        ],\n",
    "        \"desvio_padrao\": [\n",
    "            std_num_fotos,\n",
    "            std_ano_fabric,\n",
    "            std_ano_modelo,\n",
    "            std_hodometro,\n",
    "            std_portas,\n",
    "        ],\n",
    "        \"variancia\": [\n",
    "            var_num_fotos,\n",
    "            var_ano_fabric,\n",
    "            var_ano_modelo,\n",
    "            var_hodometro,\n",
    "            var_portas,\n",
    "        ],\n",
    "        \"ambplitude\": [\n",
    "            amp_num_fotos,\n",
    "            amp_ano_fabric,\n",
    "            amp_ano_modelo,\n",
    "            amp_hodometro,\n",
    "            amp_portas,\n",
    "        ],\n",
    "    },\n",
    ")"
   ]
  },
  {
   "cell_type": "code",
   "execution_count": 28,
   "id": "7bc2409d",
   "metadata": {},
   "outputs": [
    {
     "data": {
      "text/html": [
       "<div>\n",
       "<style scoped>\n",
       "    .dataframe tbody tr th:only-of-type {\n",
       "        vertical-align: middle;\n",
       "    }\n",
       "\n",
       "    .dataframe tbody tr th {\n",
       "        vertical-align: top;\n",
       "    }\n",
       "\n",
       "    .dataframe thead th {\n",
       "        text-align: right;\n",
       "    }\n",
       "</style>\n",
       "<table border=\"1\" class=\"dataframe\">\n",
       "  <thead>\n",
       "    <tr style=\"text-align: right;\">\n",
       "      <th></th>\n",
       "      <th>media</th>\n",
       "      <th>mediana</th>\n",
       "      <th>desvio_padrao</th>\n",
       "      <th>variancia</th>\n",
       "      <th>ambplitude</th>\n",
       "    </tr>\n",
       "    <tr>\n",
       "      <th>variavel</th>\n",
       "      <th></th>\n",
       "      <th></th>\n",
       "      <th></th>\n",
       "      <th></th>\n",
       "      <th></th>\n",
       "    </tr>\n",
       "  </thead>\n",
       "  <tbody>\n",
       "    <tr>\n",
       "      <th>num_fotos</th>\n",
       "      <td>10.31</td>\n",
       "      <td>8.00</td>\n",
       "      <td>3.48</td>\n",
       "      <td>12.00</td>\n",
       "      <td>13.00</td>\n",
       "    </tr>\n",
       "    <tr>\n",
       "      <th>ano_de_fabricacao</th>\n",
       "      <td>2016.76</td>\n",
       "      <td>2018.00</td>\n",
       "      <td>4.06</td>\n",
       "      <td>16.50</td>\n",
       "      <td>37.00</td>\n",
       "    </tr>\n",
       "    <tr>\n",
       "      <th>ano_modelo</th>\n",
       "      <td>2017.81</td>\n",
       "      <td>2018.00</td>\n",
       "      <td>2.67</td>\n",
       "      <td>7.15</td>\n",
       "      <td>26.00</td>\n",
       "    </tr>\n",
       "    <tr>\n",
       "      <th>hodometro</th>\n",
       "      <td>58430.59</td>\n",
       "      <td>57434.00</td>\n",
       "      <td>32561.22</td>\n",
       "      <td>1060232981.27</td>\n",
       "      <td>389965.00</td>\n",
       "    </tr>\n",
       "    <tr>\n",
       "      <th>num_portas</th>\n",
       "      <td>3.94</td>\n",
       "      <td>4.00</td>\n",
       "      <td>0.34</td>\n",
       "      <td>0.11</td>\n",
       "      <td>2.00</td>\n",
       "    </tr>\n",
       "  </tbody>\n",
       "</table>\n",
       "</div>"
      ],
      "text/plain": [
       "                     media  mediana  desvio_padrao     variancia  ambplitude\n",
       "variavel                                                                    \n",
       "num_fotos            10.31     8.00           3.48         12.00       13.00\n",
       "ano_de_fabricacao  2016.76  2018.00           4.06         16.50       37.00\n",
       "ano_modelo         2017.81  2018.00           2.67          7.15       26.00\n",
       "hodometro         58430.59 57434.00       32561.22 1060232981.27   389965.00\n",
       "num_portas            3.94     4.00           0.34          0.11        2.00"
      ]
     },
     "execution_count": 28,
     "metadata": {},
     "output_type": "execute_result"
    },
    {
     "data": {
      "application/javascript": [
       "\n",
       "            setTimeout(function() {\n",
       "                var nbb_cell_id = 28;\n",
       "                var nbb_unformatted_code = \"# Tornando a vari\\u00e1vel estatistica o index\\nestatisticas.set_index(\\\"variavel\\\")\";\n",
       "                var nbb_formatted_code = \"# Tornando a vari\\u00e1vel estatistica o index\\nestatisticas.set_index(\\\"variavel\\\")\";\n",
       "                var nbb_cells = Jupyter.notebook.get_cells();\n",
       "                for (var i = 0; i < nbb_cells.length; ++i) {\n",
       "                    if (nbb_cells[i].input_prompt_number == nbb_cell_id) {\n",
       "                        if (nbb_cells[i].get_text() == nbb_unformatted_code) {\n",
       "                             nbb_cells[i].set_text(nbb_formatted_code);\n",
       "                        }\n",
       "                        break;\n",
       "                    }\n",
       "                }\n",
       "            }, 500);\n",
       "            "
      ],
      "text/plain": [
       "<IPython.core.display.Javascript object>"
      ]
     },
     "metadata": {},
     "output_type": "display_data"
    }
   ],
   "source": [
    "# Tornando a variável estatistica o index\n",
    "estatisticas.set_index(\"variavel\")"
   ]
  }
 ],
 "metadata": {
  "kernelspec": {
   "display_name": "Python 3 (ipykernel)",
   "language": "python",
   "name": "python3"
  },
  "language_info": {
   "codemirror_mode": {
    "name": "ipython",
    "version": 3
   },
   "file_extension": ".py",
   "mimetype": "text/x-python",
   "name": "python",
   "nbconvert_exporter": "python",
   "pygments_lexer": "ipython3",
   "version": "3.9.13"
  }
 },
 "nbformat": 4,
 "nbformat_minor": 5
}
